{
 "cells": [
  {
   "cell_type": "markdown",
   "metadata": {
    "slideshow": {
     "slide_type": "slide"
    }
   },
   "source": [
    "<center><img src=\"images/header1.png\" width=400></center>\n",
    "<h1><center>Основы машинного обучения</center></h1>\n",
    "<hr>\n",
    "<h2><center>Анализ графов и социальных сетей</center></h2>\n",
    "<h3><center>Шестаков Андрей</center></h3>"
   ]
  },
  {
   "cell_type": "code",
   "execution_count": null,
   "metadata": {
    "ExecuteTime": {
     "end_time": "2022-05-18T14:22:55.202869Z",
     "start_time": "2022-05-18T14:22:51.113361Z"
    },
    "slideshow": {
     "slide_type": "notes"
    }
   },
   "outputs": [],
   "source": [
    "%matplotlib inline"
   ]
  },
  {
   "cell_type": "code",
   "execution_count": null,
   "metadata": {
    "ExecuteTime": {
     "end_time": "2022-05-18T14:22:56.241270Z",
     "start_time": "2022-05-18T14:22:55.204040Z"
    },
    "slideshow": {
     "slide_type": "notes"
    }
   },
   "outputs": [],
   "source": [
    "import pandas as pd\n",
    "import numpy as np\n",
    "import matplotlib.pyplot as plt\n",
    "\n",
    "plt.style.use('seaborn-talk')\n",
    "plt.rcParams['figure.figsize'] = (12,8)\n",
    "\n",
    "# Для кириллицы на графиках\n",
    "font = {'family': 'Verdana',\n",
    "        'weight': 'normal'}\n",
    "plt.rc('font', **font)\n",
    "\n",
    "try:\n",
    "    from ipywidgets import interact, IntSlider, fixed, FloatSlider\n",
    "except ImportError:\n",
    "    print(u'Так надо')"
   ]
  },
  {
   "cell_type": "code",
   "execution_count": null,
   "metadata": {
    "ExecuteTime": {
     "end_time": "2022-05-18T14:22:56.315772Z",
     "start_time": "2022-05-18T14:22:56.242224Z"
    }
   },
   "outputs": [],
   "source": [
    "import networkx as nx"
   ]
  },
  {
   "cell_type": "code",
   "execution_count": null,
   "metadata": {
    "ExecuteTime": {
     "end_time": "2022-05-18T14:22:56.318967Z",
     "start_time": "2022-05-18T14:22:56.317162Z"
    }
   },
   "outputs": [],
   "source": [
    "# Uncomment if you are using colab\n",
    "# !mkdir ./data\n",
    "# !mkdir ./data/1504653\n",
    "\n",
    "# !wget https://raw.githubusercontent.com/vadim0912/MLIntro2022_Spring/blob/master/lecture11/data/chapters.csv -O ./data/chapters.csv\n",
    "# !wget https://raw.githubusercontent.com/vadim0912/MLIntro2022_Spring/blob/master/lecture11/data/characters.csv -O ./data/characters.csv\n",
    "# !wget https://raw.githubusercontent.com/vadim0912/MLIntro2022_Spring/blob/master/lecture11/data/events.csv -O ./data/events.csv\n",
    "# !wget https://raw.githubusercontent.com/vadim0912/MLIntro2022_Spring/blob/master/lecture11/data/teams.csv -O ./data/teams.csv\n",
    "# !wget https://raw.githubusercontent.com/vadim0912/MLIntro2022_Spring/blob/master/lecture11/data/nested_partition.gml -O ./data/nested_partition.gml\n",
    "# !wget https://raw.githubusercontent.com/vadim0912/MLIntro2022_Spring/blob/master/lecture11/data/Princeton.gml -O ./data/Princeton.gml\n",
    "# !wget https://raw.githubusercontent.com/vadim0912/MLIntro2022_Spring/blob/master/lecture11/data/network.gml -O ./data/network.gml\n",
    "# !wget https://raw.githubusercontent.com/vadim0912/MLIntro2022_Spring/blob/master/lecture11/data/1504653/friends_1504653.json -O ./data/1504653/friends_1504653.json\n",
    "# !wget https://raw.githubusercontent.com/vadim0912/MLIntro2022_Spring/blob/master/lecture11/data/1504653/common_friends_1504653.json -O ./data/1504653/common_friends_1504653.json"
   ]
  },
  {
   "cell_type": "markdown",
   "metadata": {},
   "source": [
    "# Создадим граф в [networkX](https://networkx.github.io/documentation/stable/)"
   ]
  },
  {
   "cell_type": "code",
   "execution_count": null,
   "metadata": {
    "ExecuteTime": {
     "end_time": "2022-05-18T14:22:56.321243Z",
     "start_time": "2022-05-18T14:22:56.319667Z"
    }
   },
   "outputs": [],
   "source": [
    "g = nx.Graph()"
   ]
  },
  {
   "cell_type": "code",
   "execution_count": null,
   "metadata": {
    "ExecuteTime": {
     "end_time": "2022-05-18T14:22:56.324931Z",
     "start_time": "2022-05-18T14:22:56.322140Z"
    }
   },
   "outputs": [],
   "source": [
    "g"
   ]
  },
  {
   "cell_type": "code",
   "execution_count": null,
   "metadata": {
    "ExecuteTime": {
     "end_time": "2022-05-18T14:22:56.327172Z",
     "start_time": "2022-05-18T14:22:56.325729Z"
    }
   },
   "outputs": [],
   "source": [
    "# Как корабль назовешь..\n",
    "g.graph['some title'] = 'first graph'"
   ]
  },
  {
   "cell_type": "code",
   "execution_count": null,
   "metadata": {
    "ExecuteTime": {
     "end_time": "2022-05-18T14:22:56.329955Z",
     "start_time": "2022-05-18T14:22:56.327920Z"
    }
   },
   "outputs": [],
   "source": [
    "g.graph"
   ]
  },
  {
   "cell_type": "markdown",
   "metadata": {},
   "source": [
    "## Добавим вершины"
   ]
  },
  {
   "cell_type": "code",
   "execution_count": null,
   "metadata": {
    "ExecuteTime": {
     "end_time": "2022-05-18T14:22:56.332432Z",
     "start_time": "2022-05-18T14:22:56.330730Z"
    }
   },
   "outputs": [],
   "source": [
    "g.add_node(1)"
   ]
  },
  {
   "cell_type": "code",
   "execution_count": null,
   "metadata": {
    "ExecuteTime": {
     "end_time": "2022-05-18T14:22:56.337008Z",
     "start_time": "2022-05-18T14:22:56.334928Z"
    }
   },
   "outputs": [],
   "source": [
    "g.number_of_nodes()"
   ]
  },
  {
   "cell_type": "code",
   "execution_count": null,
   "metadata": {
    "ExecuteTime": {
     "end_time": "2022-05-18T14:22:56.339829Z",
     "start_time": "2022-05-18T14:22:56.337820Z"
    }
   },
   "outputs": [],
   "source": [
    "g.add_node('some_node') # можно создавать вершины с произвольным идентификатором"
   ]
  },
  {
   "cell_type": "markdown",
   "metadata": {},
   "source": [
    "## Добавим ребра"
   ]
  },
  {
   "cell_type": "code",
   "execution_count": null,
   "metadata": {
    "ExecuteTime": {
     "end_time": "2022-05-18T14:22:56.342513Z",
     "start_time": "2022-05-18T14:22:56.340829Z"
    }
   },
   "outputs": [],
   "source": [
    "g.add_edge(0, 1) # если вершины с идентификатором х еще не было, то она автоматически сгенерируется"
   ]
  },
  {
   "cell_type": "code",
   "execution_count": null,
   "metadata": {
    "ExecuteTime": {
     "end_time": "2022-05-18T14:22:56.345884Z",
     "start_time": "2022-05-18T14:22:56.343442Z"
    }
   },
   "outputs": [],
   "source": [
    "g.edges()"
   ]
  },
  {
   "cell_type": "code",
   "execution_count": null,
   "metadata": {
    "ExecuteTime": {
     "end_time": "2022-05-18T14:22:56.349104Z",
     "start_time": "2022-05-18T14:22:56.346779Z"
    }
   },
   "outputs": [],
   "source": [
    "g.nodes()"
   ]
  },
  {
   "cell_type": "code",
   "execution_count": null,
   "metadata": {
    "ExecuteTime": {
     "end_time": "2022-05-18T14:22:56.351885Z",
     "start_time": "2022-05-18T14:22:56.349875Z"
    }
   },
   "outputs": [],
   "source": [
    "g.add_edges_from([(0,2), \n",
    "                  (1,3), \n",
    "                  (4,3), \n",
    "                  (1,2), \n",
    "                  (2,2), \n",
    "                  (3,2)])"
   ]
  },
  {
   "cell_type": "code",
   "execution_count": null,
   "metadata": {
    "ExecuteTime": {
     "end_time": "2022-05-18T14:22:56.355317Z",
     "start_time": "2022-05-18T14:22:56.352760Z"
    }
   },
   "outputs": [],
   "source": [
    "g.edges()"
   ]
  },
  {
   "cell_type": "markdown",
   "metadata": {},
   "source": [
    "## Различные операции с вершинами и ребрами"
   ]
  },
  {
   "cell_type": "code",
   "execution_count": null,
   "metadata": {
    "ExecuteTime": {
     "end_time": "2022-05-18T14:22:56.359066Z",
     "start_time": "2022-05-18T14:22:56.356382Z"
    }
   },
   "outputs": [],
   "source": [
    "g.degree() # Степени вершин (количество связей для каждой вершины)"
   ]
  },
  {
   "cell_type": "code",
   "execution_count": null,
   "metadata": {
    "ExecuteTime": {
     "end_time": "2022-05-18T14:22:56.362256Z",
     "start_time": "2022-05-18T14:22:56.359939Z"
    }
   },
   "outputs": [],
   "source": [
    "g.degree['some_node']"
   ]
  },
  {
   "cell_type": "markdown",
   "metadata": {},
   "source": [
    "Вершинам можно задавать различные атрибуты (читай \"признаки\")"
   ]
  },
  {
   "cell_type": "code",
   "execution_count": null,
   "metadata": {
    "ExecuteTime": {
     "end_time": "2022-05-18T14:22:56.364986Z",
     "start_time": "2022-05-18T14:22:56.363237Z"
    }
   },
   "outputs": [],
   "source": [
    "for n_id in g.nodes():\n",
    "    g.nodes[n_id]['label'] = 'v_{}'.format(n_id)"
   ]
  },
  {
   "cell_type": "code",
   "execution_count": null,
   "metadata": {
    "ExecuteTime": {
     "end_time": "2022-05-18T14:22:56.368223Z",
     "start_time": "2022-05-18T14:22:56.365816Z"
    }
   },
   "outputs": [],
   "source": [
    "nx.get_node_attributes(g, 'label')"
   ]
  },
  {
   "cell_type": "code",
   "execution_count": null,
   "metadata": {
    "ExecuteTime": {
     "end_time": "2022-05-18T14:22:56.371559Z",
     "start_time": "2022-05-18T14:22:56.369084Z"
    }
   },
   "outputs": [],
   "source": [
    "g.nodes[1]"
   ]
  },
  {
   "cell_type": "code",
   "execution_count": null,
   "metadata": {
    "ExecuteTime": {
     "end_time": "2022-05-18T14:22:56.374848Z",
     "start_time": "2022-05-18T14:22:56.372354Z"
    }
   },
   "outputs": [],
   "source": [
    "g.nodes.data()"
   ]
  },
  {
   "cell_type": "markdown",
   "metadata": {},
   "source": [
    "Иногда это удобнее делать так:"
   ]
  },
  {
   "cell_type": "code",
   "execution_count": null,
   "metadata": {
    "ExecuteTime": {
     "end_time": "2022-05-18T14:22:56.377667Z",
     "start_time": "2022-05-18T14:22:56.375751Z"
    }
   },
   "outputs": [],
   "source": [
    "some_attributes = {0: 'val1', 1: 'val2'}\n",
    "nx.set_node_attributes(g, some_attributes, 'attr')"
   ]
  },
  {
   "cell_type": "code",
   "execution_count": null,
   "metadata": {
    "ExecuteTime": {
     "end_time": "2022-05-18T14:22:56.381553Z",
     "start_time": "2022-05-18T14:22:56.378487Z"
    }
   },
   "outputs": [],
   "source": [
    "g.nodes.data()"
   ]
  },
  {
   "cell_type": "markdown",
   "metadata": {},
   "source": [
    "Тоже самое для ребер"
   ]
  },
  {
   "cell_type": "code",
   "execution_count": null,
   "metadata": {
    "ExecuteTime": {
     "end_time": "2022-05-18T14:22:56.384104Z",
     "start_time": "2022-05-18T14:22:56.382312Z"
    }
   },
   "outputs": [],
   "source": [
    "g.edges[1,0]['type'] = 'friendship'"
   ]
  },
  {
   "cell_type": "code",
   "execution_count": null,
   "metadata": {
    "ExecuteTime": {
     "end_time": "2022-05-18T14:22:56.387322Z",
     "start_time": "2022-05-18T14:22:56.385024Z"
    }
   },
   "outputs": [],
   "source": [
    "g.edges[1,0]"
   ]
  },
  {
   "cell_type": "code",
   "execution_count": null,
   "metadata": {
    "ExecuteTime": {
     "end_time": "2022-05-18T14:22:56.390666Z",
     "start_time": "2022-05-18T14:22:56.388296Z"
    }
   },
   "outputs": [],
   "source": [
    "# проверка различных свойств графа\n",
    "g.is_directed() "
   ]
  },
  {
   "cell_type": "code",
   "execution_count": null,
   "metadata": {
    "ExecuteTime": {
     "end_time": "2022-05-18T14:22:56.397761Z",
     "start_time": "2022-05-18T14:22:56.395522Z"
    }
   },
   "outputs": [],
   "source": [
    "nx.is_connected(g)"
   ]
  },
  {
   "cell_type": "markdown",
   "metadata": {},
   "source": [
    "## Объединение графов"
   ]
  },
  {
   "cell_type": "code",
   "execution_count": null,
   "metadata": {
    "ExecuteTime": {
     "end_time": "2022-05-18T14:22:56.400435Z",
     "start_time": "2022-05-18T14:22:56.398478Z"
    }
   },
   "outputs": [],
   "source": [
    "g1 = g.copy()\n",
    "g2 = nx.erdos_renyi_graph(10, 0.3)"
   ]
  },
  {
   "cell_type": "code",
   "execution_count": null,
   "metadata": {
    "ExecuteTime": {
     "end_time": "2022-05-18T14:22:56.403170Z",
     "start_time": "2022-05-18T14:22:56.401318Z"
    }
   },
   "outputs": [],
   "source": [
    "# g3 = nx.disjoint_union(g1, g2)\n",
    "g3 = nx.union(g1, g2, rename=('g1_', 'g2_'))"
   ]
  },
  {
   "cell_type": "code",
   "execution_count": null,
   "metadata": {
    "ExecuteTime": {
     "end_time": "2022-05-18T14:22:56.406606Z",
     "start_time": "2022-05-18T14:22:56.404008Z"
    }
   },
   "outputs": [],
   "source": [
    "print(g1.number_of_nodes())\n",
    "print(g2.number_of_nodes())\n",
    "print(g3.number_of_nodes())"
   ]
  },
  {
   "cell_type": "code",
   "execution_count": null,
   "metadata": {
    "ExecuteTime": {
     "end_time": "2022-05-18T14:22:56.409918Z",
     "start_time": "2022-05-18T14:22:56.407522Z"
    }
   },
   "outputs": [],
   "source": [
    "g1.nodes()"
   ]
  },
  {
   "cell_type": "code",
   "execution_count": null,
   "metadata": {
    "ExecuteTime": {
     "end_time": "2022-05-18T14:22:56.414500Z",
     "start_time": "2022-05-18T14:22:56.412115Z"
    }
   },
   "outputs": [],
   "source": [
    "g3.nodes()"
   ]
  },
  {
   "cell_type": "markdown",
   "metadata": {},
   "source": [
    "Создадите граф с рисунка"
   ]
  },
  {
   "cell_type": "markdown",
   "metadata": {},
   "source": [
    "<img src='./images/clique_init.png' width=\"550\"/>"
   ]
  },
  {
   "cell_type": "code",
   "execution_count": null,
   "metadata": {
    "ExecuteTime": {
     "end_time": "2022-05-18T14:22:56.416782Z",
     "start_time": "2022-05-18T14:22:56.415448Z"
    }
   },
   "outputs": [],
   "source": [
    "# Your Code Here"
   ]
  },
  {
   "cell_type": "code",
   "execution_count": null,
   "metadata": {
    "ExecuteTime": {
     "end_time": "2022-05-18T14:22:56.488342Z",
     "start_time": "2022-05-18T14:22:56.417735Z"
    }
   },
   "outputs": [],
   "source": [
    "nx.draw_spring(g)"
   ]
  },
  {
   "cell_type": "markdown",
   "metadata": {},
   "source": [
    "Выведем матрицу смежности, список смежности и список ребер этого графа"
   ]
  },
  {
   "cell_type": "code",
   "execution_count": null,
   "metadata": {
    "ExecuteTime": {
     "end_time": "2022-05-18T14:22:56.804699Z",
     "start_time": "2022-05-18T14:22:56.489145Z"
    }
   },
   "outputs": [],
   "source": [
    "A = nx.adj_matrix(g)\n",
    "A"
   ]
  },
  {
   "cell_type": "code",
   "execution_count": null,
   "metadata": {
    "ExecuteTime": {
     "end_time": "2022-05-18T14:22:56.810683Z",
     "start_time": "2022-05-18T14:22:56.807465Z"
    }
   },
   "outputs": [],
   "source": [
    "A.todense()"
   ]
  },
  {
   "cell_type": "code",
   "execution_count": null,
   "metadata": {
    "ExecuteTime": {
     "end_time": "2022-05-18T14:22:56.814951Z",
     "start_time": "2022-05-18T14:22:56.811622Z"
    }
   },
   "outputs": [],
   "source": [
    "nx.adjacency_data(g)"
   ]
  },
  {
   "cell_type": "markdown",
   "metadata": {},
   "source": [
    "Сохраним что-нибудь из этого:"
   ]
  },
  {
   "cell_type": "code",
   "execution_count": null,
   "metadata": {
    "ExecuteTime": {
     "end_time": "2022-05-18T14:22:56.911828Z",
     "start_time": "2022-05-18T14:22:56.816001Z"
    }
   },
   "outputs": [],
   "source": [
    "nx.write_edgelist(g, 'graph.edglist')\n",
    "nx.write_graphml(g, 'graph.gml')"
   ]
  },
  {
   "cell_type": "code",
   "execution_count": null,
   "metadata": {
    "ExecuteTime": {
     "end_time": "2022-05-18T14:22:57.061212Z",
     "start_time": "2022-05-18T14:22:56.912738Z"
    }
   },
   "outputs": [],
   "source": [
    "!head graph.gml # на Windows не сработает"
   ]
  },
  {
   "cell_type": "code",
   "execution_count": null,
   "metadata": {
    "ExecuteTime": {
     "end_time": "2022-05-18T14:22:57.190325Z",
     "start_time": "2022-05-18T14:22:57.062469Z"
    }
   },
   "outputs": [],
   "source": [
    "!head graph.edglist # на Windows не сработает"
   ]
  },
  {
   "cell_type": "markdown",
   "metadata": {},
   "source": [
    "# (ваши) Соц-графы\n",
    "\n",
    "* [Туториал](https://nbviewer.jupyter.org/github/allatambov/Py-programming-3/blob/master/15-06/lect-vk-api.ipynb) по выгрузке данных с помощью VKAPI"
   ]
  },
  {
   "cell_type": "code",
   "execution_count": null,
   "metadata": {
    "ExecuteTime": {
     "end_time": "2022-05-18T14:22:57.195824Z",
     "start_time": "2022-05-18T14:22:57.192033Z"
    }
   },
   "outputs": [],
   "source": [
    "import json\n",
    "import os\n",
    "\n",
    "VKID = '1504653'\n",
    "\n",
    "DATA_FOLDER = os.path.join('.', 'data')\n",
    "VK_DATA_FOLDER = os.path.join(DATA_FOLDER, VKID)"
   ]
  },
  {
   "cell_type": "code",
   "execution_count": null,
   "metadata": {
    "ExecuteTime": {
     "end_time": "2022-05-18T14:22:57.201126Z",
     "start_time": "2022-05-18T14:22:57.196720Z"
    }
   },
   "outputs": [],
   "source": [
    "\n",
    "filepath = os.path.join(VK_DATA_FOLDER, 'friends_{}.json'.format(VKID))\n",
    "\n",
    "with open(filepath, 'r') as fin:\n",
    "    friends_temp = json.load(fin)[0]"
   ]
  },
  {
   "cell_type": "code",
   "execution_count": null,
   "metadata": {
    "ExecuteTime": {
     "end_time": "2022-05-18T14:22:57.320824Z",
     "start_time": "2022-05-18T14:22:57.202020Z"
    }
   },
   "outputs": [],
   "source": [
    "# Словарь с вашими друзьями\n",
    "friends_temp"
   ]
  },
  {
   "cell_type": "code",
   "execution_count": null,
   "metadata": {
    "ExecuteTime": {
     "end_time": "2022-05-18T14:22:57.328343Z",
     "start_time": "2022-05-18T14:22:57.324541Z"
    }
   },
   "outputs": [],
   "source": [
    "# Просто меняем строковый ключ на числовой\n",
    "friends = dict()\n",
    "for k in friends_temp.keys():\n",
    "    friends[int(k)] = friends_temp[k]"
   ]
  },
  {
   "cell_type": "code",
   "execution_count": null,
   "metadata": {
    "ExecuteTime": {
     "end_time": "2022-05-18T14:22:57.333615Z",
     "start_time": "2022-05-18T14:22:57.329639Z"
    }
   },
   "outputs": [],
   "source": [
    "filepath = os.path.join(VK_DATA_FOLDER, 'common_friends_{}.json'.format(VKID))\n",
    "\n",
    "with open(filepath, 'r') as fin:\n",
    "    common_friends_temp = json.load(fin)"
   ]
  },
  {
   "cell_type": "code",
   "execution_count": null,
   "metadata": {
    "ExecuteTime": {
     "end_time": "2022-05-18T14:22:57.383706Z",
     "start_time": "2022-05-18T14:22:57.334420Z"
    }
   },
   "outputs": [],
   "source": [
    "# Словарь с общими друзьями между вами и вашими друзьями\n",
    "common_friends_temp"
   ]
  },
  {
   "cell_type": "code",
   "execution_count": null,
   "metadata": {
    "ExecuteTime": {
     "end_time": "2022-05-18T14:22:57.386863Z",
     "start_time": "2022-05-18T14:22:57.384578Z"
    }
   },
   "outputs": [],
   "source": [
    "# Просто меняем строковый ключ на числовой\n",
    "common_friends = dict()\n",
    "for k in common_friends_temp.keys():\n",
    "    common_friends[int(k)] = common_friends_temp[k]"
   ]
  },
  {
   "cell_type": "code",
   "execution_count": null,
   "metadata": {
    "ExecuteTime": {
     "end_time": "2022-05-18T14:22:57.391160Z",
     "start_time": "2022-05-18T14:22:57.389092Z"
    }
   },
   "outputs": [],
   "source": [
    "g = nx.Graph()"
   ]
  },
  {
   "cell_type": "code",
   "execution_count": null,
   "metadata": {
    "ExecuteTime": {
     "end_time": "2022-05-18T14:22:57.395543Z",
     "start_time": "2022-05-18T14:22:57.392087Z"
    }
   },
   "outputs": [],
   "source": [
    "# Делаем список из пар (vkid, словарь с характеристиками)\n",
    "\n",
    "g.add_nodes_from((fid, {'sex': friend.get('sex', '-1'), \n",
    "                        'first_name': friend.get('first_name', '-1'), \n",
    "                        'last_name': friend.get('last_name', '-1'), \n",
    "                        'university_name': friend.get('university_name', '-1')}) for fid, friend in friends.items())"
   ]
  },
  {
   "cell_type": "code",
   "execution_count": null,
   "metadata": {
    "ExecuteTime": {
     "end_time": "2022-05-18T14:22:57.399693Z",
     "start_time": "2022-05-18T14:22:57.396392Z"
    }
   },
   "outputs": [],
   "source": [
    "g.number_of_nodes()"
   ]
  },
  {
   "cell_type": "code",
   "execution_count": null,
   "metadata": {
    "ExecuteTime": {
     "end_time": "2022-05-18T14:22:57.407762Z",
     "start_time": "2022-05-18T14:22:57.401039Z"
    }
   },
   "outputs": [],
   "source": [
    "# Делаем список из пар (vkid1, vkid2)\n",
    "g.add_edges_from((f1, f2) for f1, f_list in common_friends.items() for f2 in f_list)"
   ]
  },
  {
   "cell_type": "code",
   "execution_count": null,
   "metadata": {
    "ExecuteTime": {
     "end_time": "2022-05-18T14:22:57.411799Z",
     "start_time": "2022-05-18T14:22:57.409093Z"
    }
   },
   "outputs": [],
   "source": [
    "g.number_of_edges()"
   ]
  },
  {
   "cell_type": "code",
   "execution_count": null,
   "metadata": {
    "ExecuteTime": {
     "end_time": "2022-05-18T14:22:59.734889Z",
     "start_time": "2022-05-18T14:22:57.412776Z"
    }
   },
   "outputs": [],
   "source": [
    "nx.draw_kamada_kawai(g)"
   ]
  },
  {
   "cell_type": "code",
   "execution_count": null,
   "metadata": {
    "ExecuteTime": {
     "end_time": "2022-05-18T14:22:59.781345Z",
     "start_time": "2022-05-18T14:22:59.735806Z"
    }
   },
   "outputs": [],
   "source": [
    "nx.write_graphml(g, 'vk_graph.graphml')"
   ]
  },
  {
   "cell_type": "markdown",
   "metadata": {},
   "source": [
    "Попробуем открыть это дело в gephi!"
   ]
  },
  {
   "cell_type": "markdown",
   "metadata": {},
   "source": [
    "##  Поиск и вывод наиболее значимых вершин в вашей сети"
   ]
  },
  {
   "cell_type": "code",
   "execution_count": null,
   "metadata": {
    "ExecuteTime": {
     "end_time": "2022-05-18T14:22:59.787419Z",
     "start_time": "2022-05-18T14:22:59.783118Z"
    }
   },
   "outputs": [],
   "source": [
    "btw = nx"
   ]
  },
  {
   "cell_type": "code",
   "execution_count": null,
   "metadata": {
    "ExecuteTime": {
     "end_time": "2022-05-18T14:22:59.796493Z",
     "start_time": "2022-05-18T14:22:59.792709Z"
    }
   },
   "outputs": [],
   "source": [
    "btw"
   ]
  },
  {
   "cell_type": "markdown",
   "metadata": {},
   "source": [
    "## Выявление сообществ с помощью спектральной на матрице схожести\n",
    "* Загрузим граф из `nested_partition.gml`. Это граф, построенный с помощью [генератора](https://sites.google.com/view/santofortunato/inthepress2) Benchmark сетей для тестов алгоритмов выявления сообществ.\n",
    "* Визуализируем матрицу смежности графа с помощью метода `plt.spy(A)` (и саму сеть, если получится)\n",
    "* Рассчитаем реализованные в `nexworkx` меры схожести вершин\n",
    "\n",
    "По большому счету, полученные схожести можно подавать на вход любому алгоритму кластеризации, который изначально может работать со мерами близости (например аггломеративная кластеризация)"
   ]
  },
  {
   "cell_type": "code",
   "execution_count": null,
   "metadata": {
    "ExecuteTime": {
     "end_time": "2022-05-18T14:22:59.849231Z",
     "start_time": "2022-05-18T14:22:59.797773Z"
    }
   },
   "outputs": [],
   "source": [
    "g = nx.read_gml('./data/nested_partition.gml', label='id')"
   ]
  },
  {
   "cell_type": "code",
   "execution_count": null,
   "metadata": {
    "ExecuteTime": {
     "end_time": "2022-05-18T14:22:59.854614Z",
     "start_time": "2022-05-18T14:22:59.850170Z"
    }
   },
   "outputs": [],
   "source": [
    "g.number_of_nodes()"
   ]
  },
  {
   "cell_type": "code",
   "execution_count": null,
   "metadata": {
    "ExecuteTime": {
     "end_time": "2022-05-18T14:22:59.984274Z",
     "start_time": "2022-05-18T14:22:59.859751Z"
    }
   },
   "outputs": [],
   "source": [
    "A = nx.adj_matrix(g)\n",
    "plt.spy(A, markersize=2)"
   ]
  },
  {
   "cell_type": "code",
   "execution_count": null,
   "metadata": {
    "ExecuteTime": {
     "end_time": "2022-05-18T14:23:00.166540Z",
     "start_time": "2022-05-18T14:22:59.985524Z"
    }
   },
   "outputs": [],
   "source": [
    "# Что бы мы увидили в реальной жизни\n",
    "idx = np.random.permutation(range(128))\n",
    "i = np.ix_(idx, idx)\n",
    "plt.spy(A[i], markersize=2)"
   ]
  },
  {
   "cell_type": "code",
   "execution_count": null,
   "metadata": {
    "ExecuteTime": {
     "end_time": "2022-05-18T14:23:00.312615Z",
     "start_time": "2022-05-18T14:23:00.170234Z"
    }
   },
   "outputs": [],
   "source": [
    "# Все положительные похожести по Жаккару\n",
    "jac = nx.jaccard_coefficient(g)\n",
    "jac = np.array(list(jac))"
   ]
  },
  {
   "cell_type": "code",
   "execution_count": null,
   "metadata": {
    "ExecuteTime": {
     "end_time": "2022-05-18T14:23:00.318532Z",
     "start_time": "2022-05-18T14:23:00.313586Z"
    }
   },
   "outputs": [],
   "source": [
    "jac"
   ]
  },
  {
   "cell_type": "code",
   "execution_count": null,
   "metadata": {
    "ExecuteTime": {
     "end_time": "2022-05-18T14:23:00.330374Z",
     "start_time": "2022-05-18T14:23:00.323790Z"
    }
   },
   "outputs": [],
   "source": [
    "# Немного магии, чтобы получить из этого матрицу попарных СХОЖЕСТЕЙ по жаккару\n",
    "from scipy.sparse import coo_matrix\n",
    "\n",
    "# Переводим все в формат разреженной матрицы\n",
    "D = coo_matrix((jac[:,2], (jac[:,0], jac[:,1])), shape=(128,128))\n",
    "\n",
    "# Делаем ее симметричной\n",
    "D = D+D.T"
   ]
  },
  {
   "cell_type": "code",
   "execution_count": null,
   "metadata": {
    "ExecuteTime": {
     "end_time": "2022-05-18T14:23:00.444862Z",
     "start_time": "2022-05-18T14:23:00.331449Z"
    }
   },
   "outputs": [],
   "source": [
    "plt.imshow(D.toarray())"
   ]
  },
  {
   "cell_type": "code",
   "execution_count": null,
   "metadata": {
    "ExecuteTime": {
     "end_time": "2022-05-18T14:23:01.320181Z",
     "start_time": "2022-05-18T14:23:00.446181Z"
    }
   },
   "outputs": [],
   "source": [
    "# Попробуем посчитать на этой близости спектральную кластеризацию\n",
    "from sklearn.cluster import SpectralClustering, DBSCAN"
   ]
  },
  {
   "cell_type": "code",
   "execution_count": null,
   "metadata": {
    "ExecuteTime": {
     "end_time": "2022-05-18T14:23:01.332204Z",
     "start_time": "2022-05-18T14:23:01.322674Z"
    }
   },
   "outputs": [],
   "source": [
    "model = DBSCAN(metric='precomputed', eps=0.05)\n",
    "model.fit(D.toarray())\n"
   ]
  },
  {
   "cell_type": "code",
   "execution_count": null,
   "metadata": {
    "ExecuteTime": {
     "end_time": "2022-05-18T14:23:01.335531Z",
     "start_time": "2022-05-18T14:23:01.333096Z"
    }
   },
   "outputs": [],
   "source": [
    "labels = model.labels_"
   ]
  },
  {
   "cell_type": "code",
   "execution_count": null,
   "metadata": {
    "ExecuteTime": {
     "end_time": "2022-05-18T14:23:01.339182Z",
     "start_time": "2022-05-18T14:23:01.336440Z"
    }
   },
   "outputs": [],
   "source": [
    "true_labeling = list(nx.get_node_attributes(g, 'label').values())"
   ]
  },
  {
   "cell_type": "code",
   "execution_count": null,
   "metadata": {
    "ExecuteTime": {
     "end_time": "2022-05-18T14:23:01.490368Z",
     "start_time": "2022-05-18T14:23:01.340287Z"
    }
   },
   "outputs": [],
   "source": [
    "layout = nx.layout.spectral_layout(g)\n",
    "nx.draw(g, pos=layout, node_color=true_labeling,)"
   ]
  },
  {
   "cell_type": "code",
   "execution_count": null,
   "metadata": {
    "ExecuteTime": {
     "end_time": "2022-05-18T14:23:01.616611Z",
     "start_time": "2022-05-18T14:23:01.492287Z"
    }
   },
   "outputs": [],
   "source": [
    "nx.draw(g, pos=layout, node_color=labels)"
   ]
  },
  {
   "cell_type": "markdown",
   "metadata": {},
   "source": [
    "## Label propagation"
   ]
  },
  {
   "cell_type": "markdown",
   "metadata": {},
   "source": [
    "Методы для выявления сообществ, которые реализованы в networkX можно найти [тут](https://networkx.github.io/documentation/stable/reference/algorithms/community.html#module-networkx.algorithms.community.community_utils)"
   ]
  },
  {
   "cell_type": "code",
   "execution_count": null,
   "metadata": {
    "ExecuteTime": {
     "end_time": "2022-05-18T14:23:01.619631Z",
     "start_time": "2022-05-18T14:23:01.617717Z"
    }
   },
   "outputs": [],
   "source": [
    "lp_partition = nx.community.asyn_lpa_communities(g) # должен быть seed"
   ]
  },
  {
   "cell_type": "code",
   "execution_count": null,
   "metadata": {
    "ExecuteTime": {
     "end_time": "2022-05-18T14:23:01.634476Z",
     "start_time": "2022-05-18T14:23:01.623027Z"
    }
   },
   "outputs": [],
   "source": [
    "lp_partition = list(lp_partition) # разбиение на сообщества "
   ]
  },
  {
   "cell_type": "code",
   "execution_count": null,
   "metadata": {
    "ExecuteTime": {
     "end_time": "2022-05-18T14:23:01.640189Z",
     "start_time": "2022-05-18T14:23:01.635468Z"
    }
   },
   "outputs": [],
   "source": [
    "len(lp_partition)"
   ]
  },
  {
   "cell_type": "code",
   "execution_count": null,
   "metadata": {
    "ExecuteTime": {
     "end_time": "2022-05-18T14:23:01.645321Z",
     "start_time": "2022-05-18T14:23:01.641820Z"
    }
   },
   "outputs": [],
   "source": [
    "# Функция, которая из разбиения получает разметку для каждого объекта\n",
    "def get_labeling_from_partition(partition):\n",
    "    \n",
    "    all_nodes = set()\n",
    "    for cluster in partition:\n",
    "        all_nodes |= cluster\n",
    "    num_nodes = len(all_nodes)\n",
    "    labeling = np.ones((num_nodes,), dtype=int)\n",
    "\n",
    "    for label, ids in enumerate(partition):\n",
    "        ids = list(ids)\n",
    "        labeling[ids] = label\n",
    "        \n",
    "    return labeling"
   ]
  },
  {
   "cell_type": "code",
   "execution_count": null,
   "metadata": {
    "ExecuteTime": {
     "end_time": "2022-05-18T14:23:01.648591Z",
     "start_time": "2022-05-18T14:23:01.646385Z"
    }
   },
   "outputs": [],
   "source": [
    "lp_labeling = get_labeling_from_partition(lp_partition)"
   ]
  },
  {
   "cell_type": "code",
   "execution_count": null,
   "metadata": {
    "ExecuteTime": {
     "end_time": "2022-05-18T14:23:01.767985Z",
     "start_time": "2022-05-18T14:23:01.649613Z"
    }
   },
   "outputs": [],
   "source": [
    "nx.draw(g, pos=layout, node_color=lp_labeling)"
   ]
  },
  {
   "cell_type": "markdown",
   "metadata": {},
   "source": [
    "## Edge betweenness"
   ]
  },
  {
   "cell_type": "code",
   "execution_count": null,
   "metadata": {
    "ExecuteTime": {
     "end_time": "2022-05-18T14:23:01.770832Z",
     "start_time": "2022-05-18T14:23:01.768928Z"
    }
   },
   "outputs": [],
   "source": [
    "eb_partitions = nx.community.girvan_newman(g)"
   ]
  },
  {
   "cell_type": "code",
   "execution_count": null,
   "metadata": {
    "ExecuteTime": {
     "end_time": "2022-05-18T14:23:16.490775Z",
     "start_time": "2022-05-18T14:23:01.773155Z"
    }
   },
   "outputs": [],
   "source": [
    "k = 4 # Вернем разбиение на k сообщества\n",
    "for partition in eb_partitions:\n",
    "    if len(partition) == k:\n",
    "        break"
   ]
  },
  {
   "cell_type": "code",
   "execution_count": null,
   "metadata": {
    "ExecuteTime": {
     "end_time": "2022-05-18T14:23:16.493851Z",
     "start_time": "2022-05-18T14:23:16.491973Z"
    }
   },
   "outputs": [],
   "source": [
    "eb_partition = list(partition) # разбиение на сообщества "
   ]
  },
  {
   "cell_type": "code",
   "execution_count": null,
   "metadata": {
    "ExecuteTime": {
     "end_time": "2022-05-18T14:23:16.499291Z",
     "start_time": "2022-05-18T14:23:16.495208Z"
    }
   },
   "outputs": [],
   "source": [
    "eb_partition"
   ]
  },
  {
   "cell_type": "code",
   "execution_count": null,
   "metadata": {
    "ExecuteTime": {
     "end_time": "2022-05-18T14:23:16.512569Z",
     "start_time": "2022-05-18T14:23:16.510914Z"
    }
   },
   "outputs": [],
   "source": [
    "eb_labeling = get_labeling_from_partition(eb_partition)"
   ]
  },
  {
   "cell_type": "code",
   "execution_count": null,
   "metadata": {
    "ExecuteTime": {
     "end_time": "2022-05-18T14:23:16.516257Z",
     "start_time": "2022-05-18T14:23:16.513582Z"
    }
   },
   "outputs": [],
   "source": [
    "eb_labeling"
   ]
  },
  {
   "cell_type": "code",
   "execution_count": null,
   "metadata": {
    "ExecuteTime": {
     "end_time": "2022-05-18T14:23:16.627748Z",
     "start_time": "2022-05-18T14:23:16.517170Z"
    }
   },
   "outputs": [],
   "source": [
    "nx.draw(g, pos=layout, node_color=eb_labeling)"
   ]
  },
  {
   "cell_type": "markdown",
   "metadata": {},
   "source": [
    "### Modularity"
   ]
  },
  {
   "cell_type": "code",
   "execution_count": null,
   "metadata": {
    "ExecuteTime": {
     "end_time": "2022-05-18T14:23:16.633530Z",
     "start_time": "2022-05-18T14:23:16.628688Z"
    }
   },
   "outputs": [],
   "source": [
    "# Просто функция, которая считает модулярность\n",
    "from itertools import product\n",
    "def modularity(G, communities, weight='weight'):\n",
    "    multigraph = G.is_multigraph()\n",
    "    directed = G.is_directed()\n",
    "    m = G.size(weight=weight)\n",
    "    if directed:\n",
    "        out_degree = dict(G.out_degree(weight=weight))\n",
    "        in_degree = dict(G.in_degree(weight=weight))\n",
    "        norm = 1 / m\n",
    "    else:\n",
    "        out_degree = dict(G.degree(weight=weight))\n",
    "        in_degree = out_degree\n",
    "        norm = 1 / (2 * m)\n",
    "\n",
    "    def val(u, v):\n",
    "        try:\n",
    "            if multigraph:\n",
    "                w = sum(d.get(weight, 1) for k, d in G[u][v].items())\n",
    "            else:\n",
    "                w = G[u][v].get(weight, 1)\n",
    "        except KeyError:\n",
    "            w = 0\n",
    "        # Double count self-loops if the graph is undirected.\n",
    "        if u == v and not directed:\n",
    "            w *= 2\n",
    "        return w - in_degree[u] * out_degree[v] * norm\n",
    "\n",
    "    Q = sum(val(u, v) for c in communities for u, v in product(c, repeat=2))\n",
    "    return Q * norm"
   ]
  },
  {
   "cell_type": "code",
   "execution_count": null,
   "metadata": {
    "ExecuteTime": {
     "end_time": "2022-05-18T14:23:16.636670Z",
     "start_time": "2022-05-18T14:23:16.634608Z"
    }
   },
   "outputs": [],
   "source": [
    "eb_partitions = nx.community.girvan_newman(g)"
   ]
  },
  {
   "cell_type": "code",
   "execution_count": null,
   "metadata": {
    "ExecuteTime": {
     "end_time": "2022-05-18T14:23:31.954476Z",
     "start_time": "2022-05-18T14:23:16.637637Z"
    },
    "scrolled": true
   },
   "outputs": [],
   "source": [
    "# Посчитаем модулярность для разбиений на 1,2,..10 сообществ\n",
    "for partition in eb_partitions:\n",
    "    num_com = len(partition)\n",
    "    if num_com < 10:\n",
    "        mod = modularity(g, partition)\n",
    "        print('For {} communities modularity = {}'.format(num_com, mod))\n",
    "    else:\n",
    "        break"
   ]
  },
  {
   "cell_type": "markdown",
   "metadata": {},
   "source": [
    "## Сообщества на графе друзей"
   ]
  },
  {
   "cell_type": "markdown",
   "metadata": {},
   "source": [
    "Попробуйте найти сообщества на графе друзей\n",
    "\n",
    "Перед этим, возможно, стоит \"почистить граф\""
   ]
  },
  {
   "cell_type": "code",
   "execution_count": null,
   "metadata": {},
   "outputs": [],
   "source": []
  },
  {
   "cell_type": "markdown",
   "metadata": {},
   "source": [
    "# Пример расчета Асортативности"
   ]
  },
  {
   "cell_type": "markdown",
   "metadata": {},
   "source": [
    "В файле `Princeton.gml` содержится граф дружбы студентов соответствующих, собранных в 2005 году из Facebook. Каждая вершина обладает следующими аттрибутами:\n",
    "* Факультет\n",
    "* Пол\n",
    "* Основное направление подготовки\n",
    "* Дополнительный направление подготовки (если есть)\n",
    "* Общежитие проживания, домашнее проживание\n",
    "* Год поступления\n",
    "* Школа\n",
    "\n",
    "Пропуски помечены значением `0`.\n",
    "\n",
    "#### Задание\n",
    "Посчитайте ассортативность для каждого из аттрибутов и ассортативность по степени узлов.\n",
    "\n",
    "Сравните результаты между сетями и проинтерпретируйте их."
   ]
  },
  {
   "cell_type": "code",
   "execution_count": null,
   "metadata": {
    "ExecuteTime": {
     "end_time": "2022-05-18T14:23:32.092884Z",
     "start_time": "2022-05-18T14:23:31.955205Z"
    }
   },
   "outputs": [],
   "source": [
    "!head ./data/Princeton.gml"
   ]
  },
  {
   "cell_type": "code",
   "execution_count": null,
   "metadata": {
    "ExecuteTime": {
     "end_time": "2022-05-18T14:23:41.182641Z",
     "start_time": "2022-05-18T14:23:32.094510Z"
    }
   },
   "outputs": [],
   "source": [
    "g = nx.read_gml('./data/Princeton.gml', label='id')"
   ]
  },
  {
   "cell_type": "code",
   "execution_count": null,
   "metadata": {
    "ExecuteTime": {
     "end_time": "2022-05-18T14:24:06.587162Z",
     "start_time": "2022-05-18T14:24:06.582552Z"
    }
   },
   "outputs": [],
   "source": [
    "attributes = g.nodes[0]"
   ]
  },
  {
   "cell_type": "code",
   "execution_count": null,
   "metadata": {
    "ExecuteTime": {
     "end_time": "2022-05-18T14:24:10.157254Z",
     "start_time": "2022-05-18T14:24:10.153967Z"
    }
   },
   "outputs": [],
   "source": [
    "attributes = g.nodes[0].keys()"
   ]
  },
  {
   "cell_type": "code",
   "execution_count": null,
   "metadata": {
    "ExecuteTime": {
     "end_time": "2022-05-18T14:24:15.343816Z",
     "start_time": "2022-05-18T14:24:11.830106Z"
    }
   },
   "outputs": [],
   "source": [
    "for attr in attributes:\n",
    "    print('{} assortativity = {}'.format(attr, \n",
    "                                         nx.assortativity.attribute_assortativity_coefficient(g, attr)))"
   ]
  },
  {
   "cell_type": "code",
   "execution_count": null,
   "metadata": {
    "ExecuteTime": {
     "end_time": "2022-05-18T14:24:16.491265Z",
     "start_time": "2022-05-18T14:24:16.126047Z"
    }
   },
   "outputs": [],
   "source": [
    "# Матрица перемешивания e_ij\n",
    "E = nx.assortativity.attribute_mixing_matrix(g, 'year')"
   ]
  },
  {
   "cell_type": "code",
   "execution_count": null,
   "metadata": {
    "ExecuteTime": {
     "end_time": "2022-05-18T14:24:16.582686Z",
     "start_time": "2022-05-18T14:24:16.492375Z"
    }
   },
   "outputs": [],
   "source": [
    "plt.imshow(E)"
   ]
  },
  {
   "cell_type": "code",
   "execution_count": null,
   "metadata": {
    "ExecuteTime": {
     "end_time": "2022-05-18T14:24:17.139687Z",
     "start_time": "2022-05-18T14:24:16.583968Z"
    }
   },
   "outputs": [],
   "source": [
    "nx.assortativity.degree_assortativity_coefficient(g)"
   ]
  },
  {
   "cell_type": "markdown",
   "metadata": {
    "slideshow": {
     "slide_type": "slide"
    }
   },
   "source": [
    "# Сеть на основе вселенной Игры Престолов (spoiler alert!)"
   ]
  },
  {
   "cell_type": "markdown",
   "metadata": {
    "slideshow": {
     "slide_type": "subslide"
    }
   },
   "source": [
    "Рассмотрим две таблички: `characters.csv` и `events.csv`. Названия говорят сами за себя - в  `characters.csv` содержится информация о персонажах серии романов, а в `events.csv` описание событий. Мы будем рассматривать события, которыми славится Игры Престолов - убийства.\n",
    "\n",
    "В первом файле, помимо индетификатора персонажа (`characterID`), нас будут интересовать поля имени (`Name`) и его группы (`Team`). <br/>\n",
    "Во втором - события убийства  (`event = killed`) и поле с указанием убитого (`characterID`) и убийцы (`withID`)\n",
    "\n",
    "#### Задание\n",
    "* Постройте сеть (направленный граф nx.DiGraph) убийств персонажей. В каждой вершине должен быть сохранен атрибут имени и группы\n",
    "* Оставим только персонажей из самых частых групп (для наглядности): `['Stark', 'Night Watch', 'Lannister', 'Robert', 'none', 'Wildlings (north of wall)', 'Greyjoy']`\n",
    "* Переобозначте значения атрибута Team числами начиная с `0`\n",
    "* Нарисуйте граф со стрелочками, раскрасив каждую вершину в цвет, в зависимости от их фрацкии\n",
    "* Посчитайте коэффициент ассортативности по отношению к атрибуту \"Team\", который в данном контексте можно интерпретировать как \"склонность убивать своих или чужих\". Проинтерпретируйте полученный результат"
   ]
  },
  {
   "cell_type": "code",
   "execution_count": null,
   "metadata": {
    "ExecuteTime": {
     "end_time": "2022-05-18T14:24:20.074001Z",
     "start_time": "2022-05-18T14:24:20.049229Z"
    },
    "slideshow": {
     "slide_type": "subslide"
    }
   },
   "outputs": [],
   "source": [
    "df_char = pd.read_csv('./data/characters.csv')\n",
    "df_events = pd.read_csv('./data/events.csv')"
   ]
  },
  {
   "cell_type": "code",
   "execution_count": null,
   "metadata": {
    "ExecuteTime": {
     "end_time": "2022-05-18T14:24:20.221622Z",
     "start_time": "2022-05-18T14:24:20.197057Z"
    },
    "scrolled": true,
    "slideshow": {
     "slide_type": "subslide"
    }
   },
   "outputs": [],
   "source": [
    "df_events.head()"
   ]
  },
  {
   "cell_type": "code",
   "execution_count": null,
   "metadata": {
    "ExecuteTime": {
     "end_time": "2022-05-18T14:24:20.351102Z",
     "start_time": "2022-05-18T14:24:20.336164Z"
    }
   },
   "outputs": [],
   "source": [
    "df_char.head()"
   ]
  },
  {
   "cell_type": "code",
   "execution_count": null,
   "metadata": {
    "ExecuteTime": {
     "end_time": "2022-05-18T14:24:20.508337Z",
     "start_time": "2022-05-18T14:24:20.483997Z"
    }
   },
   "outputs": [],
   "source": [
    "df_kill = df_events.query('event == \"killed\"').loc[:, ['characterID', 'withID']].dropna()\n",
    "df_kill.loc[:, 'withID'] = df_kill.loc[:, 'withID'].astype(int)"
   ]
  },
  {
   "cell_type": "code",
   "execution_count": null,
   "metadata": {
    "ExecuteTime": {
     "end_time": "2022-05-18T14:24:21.991343Z",
     "start_time": "2022-05-18T14:24:21.986984Z"
    }
   },
   "outputs": [],
   "source": [
    "# Оставим только самые частые категории (для наглядности)\n",
    "teams = ['Stark', 'Night Watch', 'Lannister', 'Robert', 'none', 'Wildlings (north of wall)', 'Greyjoy']"
   ]
  },
  {
   "cell_type": "code",
   "execution_count": null,
   "metadata": {
    "ExecuteTime": {
     "end_time": "2022-05-18T14:24:22.209705Z",
     "start_time": "2022-05-18T14:24:22.196388Z"
    }
   },
   "outputs": [],
   "source": [
    "idx = df_char.Team.isin(teams)\n",
    "df_char = df_char.loc[idx, ['characterID', 'Name', 'Team']]\n",
    "\n",
    "idx = df_kill.characterID.isin(df_char.characterID) & df_kill.withID.isin(df_char.characterID)\n",
    "df_kill = df_kill.loc[idx, :]"
   ]
  },
  {
   "cell_type": "code",
   "execution_count": null,
   "metadata": {
    "ExecuteTime": {
     "end_time": "2022-05-18T14:24:22.536586Z",
     "start_time": "2022-05-18T14:24:22.530701Z"
    }
   },
   "outputs": [],
   "source": [
    "id_team_mapper = dict(zip(df_char.Team.unique(), range(df_char.Team.nunique())))"
   ]
  },
  {
   "cell_type": "code",
   "execution_count": null,
   "metadata": {
    "ExecuteTime": {
     "end_time": "2022-05-18T14:24:22.798547Z",
     "start_time": "2022-05-18T14:24:22.787046Z"
    }
   },
   "outputs": [],
   "source": [
    "idx = ( df_char.characterID.isin(df_kill.characterID) | df_char.characterID.isin(df_kill.withID) )\n",
    "df_char_kill = df_char.loc[idx, :].reset_index(drop=True)\n",
    "df_char_kill.loc[:, 'Team'] = df_char_kill.loc[:, 'Team'].replace(id_team_mapper)"
   ]
  },
  {
   "cell_type": "code",
   "execution_count": null,
   "metadata": {
    "ExecuteTime": {
     "end_time": "2022-05-18T14:24:23.106293Z",
     "start_time": "2022-05-18T14:24:23.095939Z"
    }
   },
   "outputs": [],
   "source": [
    "df_char_kill.head()"
   ]
  },
  {
   "cell_type": "code",
   "execution_count": null,
   "metadata": {
    "ExecuteTime": {
     "end_time": "2022-05-18T14:24:23.685980Z",
     "start_time": "2022-05-18T14:24:23.682017Z"
    }
   },
   "outputs": [],
   "source": [
    "id_mapper = dict(zip(df_char_kill.characterID.values, df_char_kill.index.values))"
   ]
  },
  {
   "cell_type": "code",
   "execution_count": null,
   "metadata": {
    "ExecuteTime": {
     "end_time": "2022-05-18T14:24:24.929997Z",
     "start_time": "2022-05-18T14:24:24.905681Z"
    }
   },
   "outputs": [],
   "source": [
    "df_kill.loc[:, 'characterID'] = df_kill.loc[:, 'characterID'].replace(id_mapper)\n",
    "df_kill.loc[:, 'withID'] = df_kill.loc[:, 'withID'].replace(id_mapper)"
   ]
  },
  {
   "cell_type": "code",
   "execution_count": null,
   "metadata": {
    "ExecuteTime": {
     "end_time": "2022-05-18T14:24:25.090383Z",
     "start_time": "2022-05-18T14:24:25.079531Z"
    }
   },
   "outputs": [],
   "source": [
    "df_kill.head()"
   ]
  },
  {
   "cell_type": "code",
   "execution_count": null,
   "metadata": {
    "ExecuteTime": {
     "end_time": "2022-05-18T14:23:41.311904Z",
     "start_time": "2022-05-18T14:23:41.311896Z"
    }
   },
   "outputs": [],
   "source": [
    "# Теперь можно сделать граф и посчитать ассортативность с атрибутом Team"
   ]
  },
  {
   "cell_type": "code",
   "execution_count": null,
   "metadata": {},
   "outputs": [],
   "source": []
  },
  {
   "cell_type": "code",
   "execution_count": null,
   "metadata": {},
   "outputs": [],
   "source": []
  }
 ],
 "metadata": {
  "kernelspec": {
   "display_name": "Python 3 (ipykernel)",
   "language": "python",
   "name": "python3"
  },
  "language_info": {
   "codemirror_mode": {
    "name": "ipython",
    "version": 3
   },
   "file_extension": ".py",
   "mimetype": "text/x-python",
   "name": "python",
   "nbconvert_exporter": "python",
   "pygments_lexer": "ipython3",
   "version": "3.9.0"
  },
  "toc": {
   "base_numbering": 1,
   "nav_menu": {},
   "number_sections": false,
   "sideBar": true,
   "skip_h1_title": false,
   "title_cell": "Table of Contents",
   "title_sidebar": "Contents",
   "toc_cell": false,
   "toc_position": {},
   "toc_section_display": true,
   "toc_window_display": false
  }
 },
 "nbformat": 4,
 "nbformat_minor": 2
}
