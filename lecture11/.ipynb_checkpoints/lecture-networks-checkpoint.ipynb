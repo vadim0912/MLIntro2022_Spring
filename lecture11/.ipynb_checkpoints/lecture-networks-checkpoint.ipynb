{
 "cells": [
  {
   "cell_type": "markdown",
   "metadata": {
    "slideshow": {
     "slide_type": "slide"
    }
   },
   "source": [
    "<table>\n",
    "  <tr>\n",
    "    <td> <center><img src=\"images/header.png\" width=400></center> </td>\n",
    "    <td> <center><img src=\"images/header2.png\" width=400></center> </td>\n",
    "  </tr>\n",
    "</table>\n",
    "\n",
    "<h1><center>Основы машинного обучения</center></h1>\n",
    "<hr>\n",
    "<h2><center>Анализ графов и социальных сетей</center></h2>\n",
    "<h3><center>Шестаков Андрей</center></h3>"
   ]
  },
  {
   "cell_type": "code",
   "execution_count": 1,
   "metadata": {
    "ExecuteTime": {
     "end_time": "2022-05-18T14:21:52.578855Z",
     "start_time": "2022-05-18T14:21:52.346698Z"
    },
    "slideshow": {
     "slide_type": "notes"
    }
   },
   "outputs": [],
   "source": [
    "%matplotlib inline"
   ]
  },
  {
   "cell_type": "code",
   "execution_count": 2,
   "metadata": {
    "ExecuteTime": {
     "end_time": "2022-05-18T14:21:54.080789Z",
     "start_time": "2022-05-18T14:21:52.580101Z"
    },
    "slideshow": {
     "slide_type": "notes"
    }
   },
   "outputs": [],
   "source": [
    "import matplotlib.pyplot as plt\n",
    "import seaborn as sns\n",
    "import numpy as np\n",
    "import pandas as pd\n",
    "import networkx as nx\n",
    "\n",
    "from IPython.display import Image, display\n",
    "\n",
    "plt.style.use('ggplot')\n",
    "plt.rcParams['figure.figsize'] = (12,8)"
   ]
  },
  {
   "cell_type": "code",
   "execution_count": 3,
   "metadata": {
    "ExecuteTime": {
     "end_time": "2022-05-18T14:21:54.083629Z",
     "start_time": "2022-05-18T14:21:54.082103Z"
    },
    "slideshow": {
     "slide_type": "notes"
    }
   },
   "outputs": [],
   "source": [
    "import warnings\n",
    "warnings.filterwarnings('ignore')\n",
    "\n",
    "from ipywidgets import interact, IntSlider, fixed, FloatSlider"
   ]
  },
  {
   "cell_type": "markdown",
   "metadata": {
    "slideshow": {
     "slide_type": "slide"
    }
   },
   "source": [
    "# Сети везде"
   ]
  },
  {
   "cell_type": "markdown",
   "metadata": {
    "slideshow": {
     "slide_type": "subslide"
    }
   },
   "source": [
    "## Социальные сети\n",
    "<center><img src='images/fb.jpg', width=1200></center>"
   ]
  },
  {
   "cell_type": "markdown",
   "metadata": {
    "slideshow": {
     "slide_type": "subslide"
    }
   },
   "source": [
    "## Блогосфера\n",
    "<center><img src='images/left-right.png' width=1200></center>"
   ]
  },
  {
   "cell_type": "markdown",
   "metadata": {
    "slideshow": {
     "slide_type": "subslide"
    }
   },
   "source": [
    "## Обмен ресурсами\n",
    "<center><img src='images/power_exchanges_europes.png' width=1200></center>"
   ]
  },
  {
   "cell_type": "markdown",
   "metadata": {
    "slideshow": {
     "slide_type": "subslide"
    }
   },
   "source": [
    "## Обмен ресурсами\n",
    "<center><img src='images/fin.jpg', width=1200></center>"
   ]
  },
  {
   "cell_type": "markdown",
   "metadata": {
    "slideshow": {
     "slide_type": "subslide"
    }
   },
   "source": [
    "## Дороги\n",
    "\n",
    "<center><img src='https://cdn.lifehacker.ru/wp-content/uploads/2017/10/1_1506947861-630x473.jpg', width=1200></center>"
   ]
  },
  {
   "cell_type": "markdown",
   "metadata": {
    "slideshow": {
     "slide_type": "subslide"
    }
   },
   "source": [
    "## Анализ социальные сетей\n",
    "<center><img src='images/karate.jpg', width=1200></center>"
   ]
  },
  {
   "cell_type": "markdown",
   "metadata": {
    "slideshow": {
     "slide_type": "slide"
    }
   },
   "source": [
    "## Мем: 6 рукопожатий\n",
    "<center><img src='images/milgram.jpg'></center>"
   ]
  },
  {
   "cell_type": "markdown",
   "metadata": {
    "slideshow": {
     "slide_type": "fragment"
    }
   },
   "source": [
    "* Six degrees of [Kevin Bacon](https://oracleofbacon.org/)\n",
    "* [Erdos Number](https://en.wikipedia.org/wiki/Erd%C5%91s_number)"
   ]
  },
  {
   "cell_type": "markdown",
   "metadata": {
    "slideshow": {
     "slide_type": "subslide"
    }
   },
   "source": [
    "## Почему сети интересно изучать?\n",
    "* Неслучайные и нерегулярные \n",
    "* Безмасштабность (scale-free) \n",
    "* Общие свойства в разных дисциплинах\n",
    "* Дополнительный источник (топологической) информации\n",
    "\n",
    "## Если мы все успеем, то мы с вами разберем \n",
    "* Что такое сети с формальной точки зрения\n",
    "* Основные форматы хранения\n",
    "* Экскурс в библиотеки\n",
    "* Как оценить важность элементов сети\n",
    "* Как оценить похожесть элементов сети"
   ]
  },
  {
   "cell_type": "markdown",
   "metadata": {
    "slideshow": {
     "slide_type": "slide"
    }
   },
   "source": [
    "# Графы"
   ]
  },
  {
   "cell_type": "markdown",
   "metadata": {
    "slideshow": {
     "slide_type": "fragment"
    }
   },
   "source": [
    "**Граф** - математическая модель представления сетевых структур. Впредь слова  *сеть* и *граф* будут обозначать одно и тоже.\n",
    "\n",
    "Графом $\\mathcal{G}$ называется пара множеств $\\mathcal{G} = (V, E)$, где $V$ содержит в себе множество *вершин (узлов, vertices, nodes)*, а $E$ содержит множество *ребер (связей, edges, links)*. <br/> \n",
    "Величины $n = |V|$ и $m = |E|$ называют *порядком (order of graph)* и *размером (size of graph)* графа. <br/> \n"
   ]
  },
  {
   "cell_type": "markdown",
   "metadata": {
    "slideshow": {
     "slide_type": "subslide"
    }
   },
   "source": [
    "**Ребра, ориентированность, соседи**\n",
    "* Ребро между вершинами $(v_i, v_j)$ обозначают $e_{ij}$. В нериентированном графе $e_{ij} = e_{ji}$ $\\forall i,j$. <br/>\n",
    "* В ориенированном графе ребро $e_{ij} = (v_i, v_j)$ показывает направление связи от $v_i$ к $v_j$.  <br/>\n",
    "* Иногда ребрам в графе ставится в соответствие некоторое числовое значение $w_{ij} \\in \\mathbb{R}$, которое выражает силу связи между вершинами. Эти значения называют весами ребер, а графы с весами называют взвешенными. <br/>\n",
    "* Вершины $v_i$ и $v_j$ называют соседями если ребро $(v_i, v_j) \\in E$. Множество смежных с $v_i$ вершин образуют множество соседей $N(v_i)$. Степень вершины - количество соседей $k_i = |N(v_i)|$<br/>\n",
    "* Если в графе все вершины связаны друг с другом, то такой граф называется полным (клика)\n",
    "* Если в графе из одной вершины всегда можной \"дойти\" до любой другой вершины, он называется связанным"
   ]
  },
  {
   "cell_type": "markdown",
   "metadata": {
    "slideshow": {
     "slide_type": "subslide"
    }
   },
   "source": [
    "<center><img src='./images/clique_init.png' width=\"750\"/></center>"
   ]
  },
  {
   "cell_type": "markdown",
   "metadata": {
    "slideshow": {
     "slide_type": "fragment"
    }
   },
   "source": [
    "* Неориентированный\n",
    "* Невзвешенный\n",
    "* Cвязанный\n",
    "* Подграф $\\mathcal{G'}$ состоящий из вершин $v_1, \\dots, v_5$ - полный подграф графа $\\mathcal{G}$\n",
    "* $V = \\{v_1, \\dots, v_{10} \\}, |V| = 10$\n",
    "* $E = \\{(v_1, v_2), (v1, v3), \\dots, (v_9, v_{10}) \\}, |E| = ?$\n",
    "* $N(v_2) = \\{v_1, v_3, v_4, v_5, v_6, v_8\\}$\n",
    "* Степень вершины $v_2$: $k_2 = |N(v_2)| =  6$\n",
    "* Расстояние между $v_5$ и $v_{7} = ?$"
   ]
  },
  {
   "cell_type": "markdown",
   "metadata": {
    "slideshow": {
     "slide_type": "slide"
    }
   },
   "source": [
    "# Форматы представления графов\n",
    "\n",
    "Форматов представления графов довольно много. Все форматы определяют топологию сети (т.е. её структуру), но некоторые могут не сохранять в себе все данные связанные с элементами сети (множество атрибутов ребер и вершин, динамические характеристики, рекоментованную прорисовку и тп).\n",
    "\n",
    "Ниже мы рассмотрим наиболее распространенные форматы."
   ]
  },
  {
   "cell_type": "markdown",
   "metadata": {
    "slideshow": {
     "slide_type": "subslide"
    }
   },
   "source": [
    "## Матрица смежности\n",
    "\n",
    "Матрица связанности, Incidence matrix, Association matrix.\n",
    "\n",
    "Матрица связанности - это квадратная матрица размера $n \\times n$. Обозначим ее буквой $\\mathbf{A}$ <br/>\n",
    "\n",
    "**В невзвешенном графе:**<br/>\n",
    "$\\mathbf{A_{ij}} = 1$, если в графе есть ребро между вершинами $v_i$ и $v_j$ <br/>\n",
    "$\\mathbf{A_{ij}} = 0$, иначе\n",
    "\n",
    "**Во взвешенном графе:**<br/>\n",
    "$\\mathbf{A_{ij}} = w_{ij}$, если в графе есть ребро между вершинами $v_i$ и $v_j$ <br/>\n",
    "$\\mathbf{A_{ij}} = 0$, иначе\n",
    "\n",
    "Для графа выше матрица смежности имеет следующий вид:"
   ]
  },
  {
   "cell_type": "markdown",
   "metadata": {
    "slideshow": {
     "slide_type": "subslide"
    }
   },
   "source": [
    "<center><img src='./images/clique_matrix.png', width=1200></center>"
   ]
  },
  {
   "cell_type": "markdown",
   "metadata": {
    "slideshow": {
     "slide_type": "subslide"
    }
   },
   "source": [
    "**Преимущества:**\n",
    "* Наглядность\n",
    "* Удобно производить математические операции\n",
    "\n",
    "**Недостатки:**\n",
    "* Передает только структурную информацию (+ веса)\n",
    "* При неправильном хранении может занимать много места в памяти и на жестком диске"
   ]
  },
  {
   "cell_type": "markdown",
   "metadata": {
    "slideshow": {
     "slide_type": "subslide"
    }
   },
   "source": [
    "## Список ребер\n",
    "\n",
    "Edge list\n",
    "\n",
    "Другой очевидный и популярный формат.\n",
    "\n",
    "На каждой строчке указываются идентификаторы смежных вершин (числовые признаки этих связей - веса)"
   ]
  },
  {
   "cell_type": "raw",
   "metadata": {
    "slideshow": {
     "slide_type": "subslide"
    }
   },
   "source": [
    "1 2\n",
    "1 3\n",
    "1 4\n",
    "1 5\n",
    "1 6\n",
    "2 3\n",
    "2 4\n",
    "2 5\n",
    "2 6\n",
    "3 4\n",
    "3 5\n",
    "3 6\n",
    "4 5\n",
    "4 6\n",
    "5 6\n",
    "7 8\n",
    "7 9\n",
    "8 9\n",
    "8 10\n",
    "9 10\n",
    "3 7\n",
    "2 8\n",
    "6 10"
   ]
  },
  {
   "cell_type": "markdown",
   "metadata": {
    "slideshow": {
     "slide_type": "subslide"
    }
   },
   "source": [
    "**Преимущества:**\n",
    "* Достаточно легкий формат\n",
    "\n",
    "**Недостатки:**\n",
    "* Передает структурную информацию\n",
    "* Может передавать несколько признаков связей (несколько весов)"
   ]
  },
  {
   "cell_type": "markdown",
   "metadata": {
    "slideshow": {
     "slide_type": "subslide"
    }
   },
   "source": [
    "## Список смежности"
   ]
  },
  {
   "cell_type": "markdown",
   "metadata": {
    "slideshow": {
     "slide_type": "subslide"
    }
   },
   "source": [
    "Adjacency list\n",
    "\n",
    "Один из самых экономичных форматов. \n",
    "\n",
    "Каждая строчке соответствует вершине. Через запятую указываются идентификаторы смежных с ней вершин"
   ]
  },
  {
   "cell_type": "raw",
   "metadata": {
    "slideshow": {
     "slide_type": "subslide"
    }
   },
   "source": [
    "2, 3, 4, 5, 6\n",
    "1, 3, 4, 5, 6, 8\n",
    "1, 2, 4, 5, 6, 7\n",
    "1, 2, 3, 5, 6\n",
    "1, 2, 3, 4, 6\n",
    "1, 2, 3, 4, 5, 10\n",
    "3, 8, 9\n",
    "2, 7, 9, 10\n",
    "7, 8, 10\n",
    "6, 8, 9"
   ]
  },
  {
   "cell_type": "markdown",
   "metadata": {
    "slideshow": {
     "slide_type": "subslide"
    }
   },
   "source": [
    "**Преимущества:**\n",
    "* Достаточно легкий формат\n",
    "\n",
    "**Недостатки:**\n",
    "* Передает только структурную информацию"
   ]
  },
  {
   "cell_type": "markdown",
   "metadata": {
    "slideshow": {
     "slide_type": "subslide"
    }
   },
   "source": [
    "## GraphML\n",
    "\n",
    "Довольно \"толстый\" формат хранения данных, основанный на языке разметки XML. Представляет их себя набор тэгов, которые могут описать в сети абсолютно все."
   ]
  },
  {
   "cell_type": "raw",
   "metadata": {
    "slideshow": {
     "slide_type": "subslide"
    }
   },
   "source": [
    "<?xml version=\"1.0\" encoding=\"UTF-8\"?>\n",
    "<graphml xmlns=\"http://graphml.graphdrawing.org/xmlns\"\n",
    "         xmlns:xsi=\"http://www.w3.org/2001/XMLSchema-instance\"\n",
    "         xsi:schemaLocation=\"http://graphml.graphdrawing.org/xmlns\n",
    "         http://graphml.graphdrawing.org/xmlns/1.0/graphml.xsd\">\n",
    "<!-- Created by igraph -->\n",
    "  <key id=\"v_label\" for=\"node\" attr.name=\"label\" attr.type=\"string\"/>\n",
    "  <graph id=\"G\" edgedefault=\"undirected\">\n",
    "    <node id=\"n0\">\n",
    "      <data key=\"v_label\">v_1</data>\n",
    "    </node>\n",
    "    <node id=\"n1\">\n",
    "      <data key=\"v_label\">v_2</data>\n",
    "    </node>\n",
    "    <node id=\"n2\">\n",
    "      <data key=\"v_label\">v_3</data>\n",
    "    </node>\n",
    "    <node id=\"n3\">\n",
    "      <data key=\"v_label\">v_4</data>\n",
    "    </node>\n",
    "    <node id=\"n4\">\n",
    "      <data key=\"v_label\">v_5</data>\n",
    "    </node>\n",
    "    <node id=\"n5\">\n",
    "      <data key=\"v_label\">v_6</data>\n",
    "    </node>\n",
    "    ....\n",
    "    <edge source=\"n0\" target=\"n1\">\n",
    "    </edge>\n",
    "    <edge source=\"n0\" target=\"n2\">\n",
    "    </edge>\n",
    "    <edge source=\"n0\" target=\"n3\">\n",
    "    </edge>\n",
    "    ...\n",
    "  </graph>\n",
    "</graphml>"
   ]
  },
  {
   "cell_type": "markdown",
   "metadata": {
    "slideshow": {
     "slide_type": "subslide"
    }
   },
   "source": [
    "**Преимущества:**\n",
    "* Возможно передать всю информацию о графе, его структуре и характеристиках элементов\n",
    "\n",
    "**Недостатки:**\n",
    "* Много весит..."
   ]
  },
  {
   "cell_type": "markdown",
   "metadata": {
    "slideshow": {
     "slide_type": "subslide"
    }
   },
   "source": [
    "## GML\n",
    "\n",
    "GML (Graph Modelling Language) - так же гибкий формат представления графов. Однако он является чуть более \"читабельным\", чем GraphML"
   ]
  },
  {
   "cell_type": "raw",
   "metadata": {
    "slideshow": {
     "slide_type": "subslide"
    }
   },
   "source": [
    "Creator \"igraph version 0.7.1 YYYY-MM-DD\"\n",
    "Version 1\n",
    "graph\n",
    "[\n",
    "  directed 0\n",
    "  node \n",
    "  [\n",
    "    id 0\n",
    "    label \"v_1\"\n",
    "  ]\n",
    "  node\n",
    "  [\n",
    "    id 1\n",
    "    label \"v_2\"\n",
    "  ]\n",
    "  node\n",
    "  [\n",
    "    id 2\n",
    "    label \"v_3\"\n",
    "  ]\n",
    "  \n",
    "  ...\n",
    "  \n",
    "  edge\n",
    "  [\n",
    "    source 1\n",
    "    target 0\n",
    "  ]\n",
    "  edge\n",
    "  [\n",
    "    source 2\n",
    "    target 0\n",
    "  ]\n",
    "  \n",
    "  ...\n",
    "  \n",
    "]\n"
   ]
  },
  {
   "cell_type": "markdown",
   "metadata": {
    "slideshow": {
     "slide_type": "subslide"
    }
   },
   "source": [
    "**Преимущества:**\n",
    "* Возможно передать всю информацию о графе, его структуре и характеристиках элементов\n",
    "\n",
    "**Недостатки:**\n",
    "* Много весит..."
   ]
  },
  {
   "cell_type": "markdown",
   "metadata": {
    "slideshow": {
     "slide_type": "subslide"
    }
   },
   "source": [
    "# Инструменты по работе с сетями"
   ]
  },
  {
   "cell_type": "markdown",
   "metadata": {
    "slideshow": {
     "slide_type": "subslide"
    }
   },
   "source": [
    "## Gephi\n",
    "\n",
    "[Gephi](https://gephi.org/) - это очень крутой, кнопочный, написанный на  Java, open-source проект для анализа и визуализации сетей. <br/> Вместо тысячи слов:\n",
    "\n"
   ]
  },
  {
   "cell_type": "code",
   "execution_count": 4,
   "metadata": {
    "ExecuteTime": {
     "end_time": "2022-05-18T14:21:54.244656Z",
     "start_time": "2022-05-18T14:21:54.084898Z"
    },
    "slideshow": {
     "slide_type": "fragment"
    }
   },
   "outputs": [
    {
     "data": {
      "image/jpeg": "[encoded data removed]",
      "text/html": [
       "\n",
       "        <iframe\n",
       "            width=\"400\"\n",
       "            height=\"300\"\n",
       "            src=\"https://www.youtube.com/embed/bXCBh6QH5W0\"\n",
       "            frameborder=\"0\"\n",
       "            allowfullscreen\n",
       "        ></iframe>\n",
       "        "
      ],
      "text/plain": [
       "<IPython.lib.display.YouTubeVideo at 0x7f9b809c0b20>"
      ]
     },
     "execution_count": 4,
     "metadata": {},
     "output_type": "execute_result"
    }
   ],
   "source": [
    "from IPython.display import YouTubeVideo\n",
    "YouTubeVideo('bXCBh6QH5W0')"
   ]
  },
  {
   "cell_type": "markdown",
   "metadata": {
    "slideshow": {
     "slide_type": "subslide"
    }
   },
   "source": [
    "## Библиотеки для работы с сетями на Python\n",
    "\n",
    "В языке `python` чаще всего используются следующие библиотеки:\n",
    "* `NetworkX` - подходит для работы с небольшими сетями\n",
    "* [`graph-tool`](https://graph-tool.skewed.de/) - Библиотека для работы с большими сетями при поддержке OpenMP и Boost c API для `python`\n",
    "* [SNAP](http://snap.stanford.edu/snappy/index.html) - Библиотека от Stanford для работы с большими сетями с API для `python`\n",
    "* [`igraph`](http://igraph.org/python/) - Библиотека для работы с большими сетями c API для `python`  и `R`\n",
    "\n",
    "FYI, можно посмотреть [бенчмарки](https://graph-tool.skewed.de/performance) для библиотек."
   ]
  },
  {
   "cell_type": "markdown",
   "metadata": {
    "slideshow": {
     "slide_type": "fragment"
    }
   },
   "source": [
    "C сетями мы будем работать с помощью модуля [NetworkX](https://networkx.github.io/documentation/stable/). Функционала в нем постепенно становится больше и больше, но по скорости работы он сильно уступает библиотекам, реализованным на С и С++"
   ]
  },
  {
   "cell_type": "markdown",
   "metadata": {
    "slideshow": {
     "slide_type": "slide"
    }
   },
   "source": [
    "# Tutorial по NetworkX"
   ]
  },
  {
   "cell_type": "markdown",
   "metadata": {
    "slideshow": {
     "slide_type": "slide"
    }
   },
   "source": [
    "# Характеристики вершин/ребер сети\n",
    "\n",
    "На основе сетевой структуры для вершин и ребер можно расчитать характеристики \"важности\" этих элементов.\n",
    "\n",
    "Они еще называются \"центральностями\""
   ]
  },
  {
   "cell_type": "code",
   "execution_count": 5,
   "metadata": {
    "ExecuteTime": {
     "end_time": "2022-05-18T14:21:54.337140Z",
     "start_time": "2022-05-18T14:21:54.245868Z"
    },
    "slideshow": {
     "slide_type": "notes"
    }
   },
   "outputs": [
    {
     "ename": "NetworkXError",
     "evalue": "random_state_index is incorrect",
     "output_type": "error",
     "traceback": [
      "\u001b[0;31m---------------------------------------------------------------------------\u001b[0m",
      "\u001b[0;31mIndexError\u001b[0m                                Traceback (most recent call last)",
      "\u001b[0;32m/opt/anaconda3/lib/python3.8/site-packages/networkx/utils/decorators.py\u001b[0m in \u001b[0;36m_random_state\u001b[0;34m(func, *args, **kwargs)\u001b[0m\n\u001b[1;32m    395\u001b[0m         \u001b[0;32mtry\u001b[0m\u001b[0;34m:\u001b[0m\u001b[0;34m\u001b[0m\u001b[0;34m\u001b[0m\u001b[0m\n\u001b[0;32m--> 396\u001b[0;31m             \u001b[0mrandom_state_arg\u001b[0m \u001b[0;34m=\u001b[0m \u001b[0margs\u001b[0m\u001b[0;34m[\u001b[0m\u001b[0mrandom_state_index\u001b[0m\u001b[0;34m]\u001b[0m\u001b[0;34m\u001b[0m\u001b[0;34m\u001b[0m\u001b[0m\n\u001b[0m\u001b[1;32m    397\u001b[0m         \u001b[0;32mexcept\u001b[0m \u001b[0mTypeError\u001b[0m \u001b[0;32mas\u001b[0m \u001b[0me\u001b[0m\u001b[0;34m:\u001b[0m\u001b[0;34m\u001b[0m\u001b[0;34m\u001b[0m\u001b[0m\n",
      "\u001b[0;31mIndexError\u001b[0m: tuple index out of range",
      "\nThe above exception was the direct cause of the following exception:\n",
      "\u001b[0;31mNetworkXError\u001b[0m                             Traceback (most recent call last)",
      "\u001b[0;32m<ipython-input-5-fa2ded4ea023>\u001b[0m in \u001b[0;36m<module>\u001b[0;34m\u001b[0m\n\u001b[1;32m      3\u001b[0m \u001b[0;34m\u001b[0m\u001b[0m\n\u001b[1;32m      4\u001b[0m \u001b[0mg\u001b[0m\u001b[0;34m.\u001b[0m\u001b[0madd_edges_from\u001b[0m\u001b[0;34m(\u001b[0m\u001b[0;34m[\u001b[0m\u001b[0;34m(\u001b[0m\u001b[0;36m0\u001b[0m\u001b[0;34m,\u001b[0m\u001b[0;36m1\u001b[0m\u001b[0;34m)\u001b[0m\u001b[0;34m,\u001b[0m \u001b[0;34m(\u001b[0m\u001b[0;36m0\u001b[0m\u001b[0;34m,\u001b[0m\u001b[0;36m2\u001b[0m\u001b[0;34m)\u001b[0m\u001b[0;34m,\u001b[0m \u001b[0;34m(\u001b[0m\u001b[0;36m2\u001b[0m\u001b[0;34m,\u001b[0m\u001b[0;36m3\u001b[0m\u001b[0;34m)\u001b[0m\u001b[0;34m,\u001b[0m \u001b[0;34m(\u001b[0m\u001b[0;36m1\u001b[0m\u001b[0;34m,\u001b[0m\u001b[0;36m3\u001b[0m\u001b[0;34m)\u001b[0m\u001b[0;34m,\u001b[0m \u001b[0;34m(\u001b[0m\u001b[0;36m3\u001b[0m\u001b[0;34m,\u001b[0m\u001b[0;36m4\u001b[0m\u001b[0;34m)\u001b[0m\u001b[0;34m,\u001b[0m \u001b[0;34m(\u001b[0m\u001b[0;36m4\u001b[0m\u001b[0;34m,\u001b[0m\u001b[0;36m5\u001b[0m\u001b[0;34m)\u001b[0m\u001b[0;34m]\u001b[0m\u001b[0;34m)\u001b[0m\u001b[0;34m\u001b[0m\u001b[0;34m\u001b[0m\u001b[0m\n\u001b[0;32m----> 5\u001b[0;31m \u001b[0mlayout\u001b[0m \u001b[0;34m=\u001b[0m \u001b[0mnx\u001b[0m\u001b[0;34m.\u001b[0m\u001b[0mlayout\u001b[0m\u001b[0;34m.\u001b[0m\u001b[0mspring_layout\u001b[0m\u001b[0;34m(\u001b[0m\u001b[0mg\u001b[0m\u001b[0;34m,\u001b[0m \u001b[0mseed\u001b[0m\u001b[0;34m=\u001b[0m\u001b[0;36m1231\u001b[0m\u001b[0;34m)\u001b[0m\u001b[0;34m\u001b[0m\u001b[0;34m\u001b[0m\u001b[0m\n\u001b[0m",
      "\u001b[0;32m/opt/anaconda3/lib/python3.8/site-packages/decorator.py\u001b[0m in \u001b[0;36mfun\u001b[0;34m(*args, **kw)\u001b[0m\n\u001b[1;32m    229\u001b[0m             \u001b[0;32mif\u001b[0m \u001b[0;32mnot\u001b[0m \u001b[0mkwsyntax\u001b[0m\u001b[0;34m:\u001b[0m\u001b[0;34m\u001b[0m\u001b[0;34m\u001b[0m\u001b[0m\n\u001b[1;32m    230\u001b[0m                 \u001b[0margs\u001b[0m\u001b[0;34m,\u001b[0m \u001b[0mkw\u001b[0m \u001b[0;34m=\u001b[0m \u001b[0mfix\u001b[0m\u001b[0;34m(\u001b[0m\u001b[0margs\u001b[0m\u001b[0;34m,\u001b[0m \u001b[0mkw\u001b[0m\u001b[0;34m,\u001b[0m \u001b[0msig\u001b[0m\u001b[0;34m)\u001b[0m\u001b[0;34m\u001b[0m\u001b[0;34m\u001b[0m\u001b[0m\n\u001b[0;32m--> 231\u001b[0;31m             \u001b[0;32mreturn\u001b[0m \u001b[0mcaller\u001b[0m\u001b[0;34m(\u001b[0m\u001b[0mfunc\u001b[0m\u001b[0;34m,\u001b[0m \u001b[0;34m*\u001b[0m\u001b[0;34m(\u001b[0m\u001b[0mextras\u001b[0m \u001b[0;34m+\u001b[0m \u001b[0margs\u001b[0m\u001b[0;34m)\u001b[0m\u001b[0;34m,\u001b[0m \u001b[0;34m**\u001b[0m\u001b[0mkw\u001b[0m\u001b[0;34m)\u001b[0m\u001b[0;34m\u001b[0m\u001b[0;34m\u001b[0m\u001b[0m\n\u001b[0m\u001b[1;32m    232\u001b[0m     \u001b[0mfun\u001b[0m\u001b[0;34m.\u001b[0m\u001b[0m__name__\u001b[0m \u001b[0;34m=\u001b[0m \u001b[0mfunc\u001b[0m\u001b[0;34m.\u001b[0m\u001b[0m__name__\u001b[0m\u001b[0;34m\u001b[0m\u001b[0;34m\u001b[0m\u001b[0m\n\u001b[1;32m    233\u001b[0m     \u001b[0mfun\u001b[0m\u001b[0;34m.\u001b[0m\u001b[0m__doc__\u001b[0m \u001b[0;34m=\u001b[0m \u001b[0mfunc\u001b[0m\u001b[0;34m.\u001b[0m\u001b[0m__doc__\u001b[0m\u001b[0;34m\u001b[0m\u001b[0;34m\u001b[0m\u001b[0m\n",
      "\u001b[0;32m/opt/anaconda3/lib/python3.8/site-packages/networkx/utils/decorators.py\u001b[0m in \u001b[0;36m_random_state\u001b[0;34m(func, *args, **kwargs)\u001b[0m\n\u001b[1;32m    398\u001b[0m             \u001b[0;32mraise\u001b[0m \u001b[0mnx\u001b[0m\u001b[0;34m.\u001b[0m\u001b[0mNetworkXError\u001b[0m\u001b[0;34m(\u001b[0m\u001b[0;34m\"random_state_index must be an integer\"\u001b[0m\u001b[0;34m)\u001b[0m \u001b[0;32mfrom\u001b[0m \u001b[0me\u001b[0m\u001b[0;34m\u001b[0m\u001b[0;34m\u001b[0m\u001b[0m\n\u001b[1;32m    399\u001b[0m         \u001b[0;32mexcept\u001b[0m \u001b[0mIndexError\u001b[0m \u001b[0;32mas\u001b[0m \u001b[0me\u001b[0m\u001b[0;34m:\u001b[0m\u001b[0;34m\u001b[0m\u001b[0;34m\u001b[0m\u001b[0m\n\u001b[0;32m--> 400\u001b[0;31m             \u001b[0;32mraise\u001b[0m \u001b[0mnx\u001b[0m\u001b[0;34m.\u001b[0m\u001b[0mNetworkXError\u001b[0m\u001b[0;34m(\u001b[0m\u001b[0;34m\"random_state_index is incorrect\"\u001b[0m\u001b[0;34m)\u001b[0m \u001b[0;32mfrom\u001b[0m \u001b[0me\u001b[0m\u001b[0;34m\u001b[0m\u001b[0;34m\u001b[0m\u001b[0m\n\u001b[0m\u001b[1;32m    401\u001b[0m \u001b[0;34m\u001b[0m\u001b[0m\n\u001b[1;32m    402\u001b[0m         \u001b[0;31m# Create a numpy.random.RandomState instance\u001b[0m\u001b[0;34m\u001b[0m\u001b[0;34m\u001b[0m\u001b[0;34m\u001b[0m\u001b[0m\n",
      "\u001b[0;31mNetworkXError\u001b[0m: random_state_index is incorrect"
     ]
    }
   ],
   "source": [
    "g = nx.Graph()\n",
    "g.add_nodes_from(range(6))\n",
    "\n",
    "g.add_edges_from([(0,1), (0,2), (2,3), (1,3), (3,4), (4,5)])\n",
    "layout = nx.layout.spring_layout(g, seed=1231)"
   ]
  },
  {
   "cell_type": "code",
   "execution_count": null,
   "metadata": {
    "ExecuteTime": {
     "end_time": "2022-05-18T14:21:54.339827Z",
     "start_time": "2022-05-18T14:21:52.393Z"
    },
    "slideshow": {
     "slide_type": "subslide"
    }
   },
   "outputs": [],
   "source": [
    "nx.draw_networkx(g, pos=layout)"
   ]
  },
  {
   "cell_type": "markdown",
   "metadata": {
    "slideshow": {
     "slide_type": "subslide"
    }
   },
   "source": [
    "## Degree centrality\n",
    "Самая оцевидная центральность - просто степень узла. Характеризует некоторую популярность узла (много друзей, много связей).\n",
    "\n",
    "$$ C_d(i) = k(i) = \\sum_jA_{ij} = \\sum_iA_{ij}$$\n",
    "$$ \\bar{C}_d(i) = \\frac{1}{n-1} C_d(i)$$\n",
    "\n",
    "Существует обобщение на ориентированные (prestige) и взвешенные сети."
   ]
  },
  {
   "cell_type": "code",
   "execution_count": null,
   "metadata": {
    "ExecuteTime": {
     "end_time": "2022-05-18T14:21:54.340410Z",
     "start_time": "2022-05-18T14:21:52.396Z"
    },
    "slideshow": {
     "slide_type": "skip"
    }
   },
   "outputs": [],
   "source": [
    "degr = np.array(list(g.degree( )))[:, 1]* 100\n",
    "degr_cent = nx.centrality.degree_centrality(g)"
   ]
  },
  {
   "cell_type": "code",
   "execution_count": null,
   "metadata": {
    "ExecuteTime": {
     "end_time": "2022-05-18T14:21:54.341090Z",
     "start_time": "2022-05-18T14:21:52.397Z"
    },
    "slideshow": {
     "slide_type": "subslide"
    }
   },
   "outputs": [],
   "source": [
    "nx.draw_networkx(g, pos=layout, node_size=degr)\n",
    "degr_cent"
   ]
  },
  {
   "cell_type": "markdown",
   "metadata": {
    "slideshow": {
     "slide_type": "subslide"
    }
   },
   "source": [
    "## Closeness centrality\n",
    "\n",
    "Центральность, основанная на расстоянии до остальных вершин в графе.\n",
    "\n",
    "$$ C_{cl}(i) = \\frac{1}{\\sum_j d(i,j)} $$\n",
    "\n",
    "$$ \\bar{C}_{cl}(i) = (n-1) \\cdot C_{cl}(i) $$\n",
    "\n",
    "Актор, расположенный в центре сети может быстро добраться до остальных акторов. Акторы на периферии расположены дальше.\n",
    "\n",
    "**Вопрос:** что будет, если граф окажется несвязным?"
   ]
  },
  {
   "cell_type": "code",
   "execution_count": null,
   "metadata": {
    "ExecuteTime": {
     "end_time": "2022-05-18T14:21:54.341766Z",
     "start_time": "2022-05-18T14:21:52.400Z"
    },
    "slideshow": {
     "slide_type": "notes"
    }
   },
   "outputs": [],
   "source": [
    "closeness_nodes = nx.centrality.closeness_centrality(g)\n",
    "closeness_nodes_values = np.array(list(closeness_nodes.values())) * 1000"
   ]
  },
  {
   "cell_type": "code",
   "execution_count": null,
   "metadata": {
    "ExecuteTime": {
     "end_time": "2022-05-18T14:21:54.342521Z",
     "start_time": "2022-05-18T14:21:52.402Z"
    },
    "slideshow": {
     "slide_type": "subslide"
    }
   },
   "outputs": [],
   "source": [
    "nx.draw_networkx(g, pos=layout, node_size=closeness_nodes_values)\n",
    "closeness_nodes"
   ]
  },
  {
   "cell_type": "markdown",
   "metadata": {
    "slideshow": {
     "slide_type": "subslide"
    }
   },
   "source": [
    "## Betweenness centrality (nodes)\n",
    "\n",
    "Пусть $\\sigma_{st}$ - количество кратчайших путей между вершинами $s$ и $t$, а $\\sigma_{st}(i)$ - кр. пути между $v_s$ и $v_t$, которые проходят через вершину $v_i$.\n",
    "\n",
    "Тогда \n",
    "$$ C_b(i) = \\sum\\limits_{s\\neq t\\neq i} \\frac{\\sigma_{st}(i)}{\\sigma_{st}} $$\n",
    "\n",
    "$$ \\bar{C}_b(i) = \\frac{2}{(n-1)(n-2)}C_b(i) $$"
   ]
  },
  {
   "cell_type": "code",
   "execution_count": null,
   "metadata": {
    "ExecuteTime": {
     "end_time": "2022-05-18T14:21:54.343272Z",
     "start_time": "2022-05-18T14:21:52.404Z"
    },
    "slideshow": {
     "slide_type": "notes"
    }
   },
   "outputs": [],
   "source": [
    "betw_nodes = nx.betweenness_centrality(g) \n",
    "betw_nodes_values = np.array(list(betw_nodes.values())) * 1000"
   ]
  },
  {
   "cell_type": "code",
   "execution_count": null,
   "metadata": {
    "ExecuteTime": {
     "end_time": "2022-05-18T14:21:54.343932Z",
     "start_time": "2022-05-18T14:21:52.407Z"
    },
    "slideshow": {
     "slide_type": "subslide"
    }
   },
   "outputs": [],
   "source": [
    "nx.draw_networkx(g, pos=layout, node_size=betw_nodes_values)\n",
    "betw_nodes"
   ]
  },
  {
   "cell_type": "markdown",
   "metadata": {
    "slideshow": {
     "slide_type": "subslide"
    }
   },
   "source": [
    "## Betweenness centrality (edges)\n",
    "Betweenness также можно расчитывать для ребер! Давайте определим для каких ребер она наибольшая и что это может нам дать?"
   ]
  },
  {
   "cell_type": "code",
   "execution_count": null,
   "metadata": {
    "ExecuteTime": {
     "end_time": "2022-05-18T14:21:54.345248Z",
     "start_time": "2022-05-18T14:21:52.410Z"
    },
    "slideshow": {
     "slide_type": "notes"
    }
   },
   "outputs": [],
   "source": [
    "betw_edg = nx.centrality.edge_betweenness_centrality(g)"
   ]
  },
  {
   "cell_type": "code",
   "execution_count": null,
   "metadata": {
    "ExecuteTime": {
     "end_time": "2022-05-18T14:21:54.346012Z",
     "start_time": "2022-05-18T14:21:52.411Z"
    },
    "slideshow": {
     "slide_type": "notes"
    }
   },
   "outputs": [],
   "source": [
    "sources = []\n",
    "targets = []\n",
    "betw = []\n",
    "for e, b in betw_edg.items():\n",
    "    sources.append(e[0])\n",
    "    targets.append(e[1])\n",
    "    betw.append(b)\n",
    "df = pd.DataFrame({'source': sources, \n",
    "                   'target': targets,\n",
    "                   'betw': betw})"
   ]
  },
  {
   "cell_type": "code",
   "execution_count": null,
   "metadata": {
    "ExecuteTime": {
     "end_time": "2022-05-18T14:21:54.346578Z",
     "start_time": "2022-05-18T14:21:52.413Z"
    },
    "slideshow": {
     "slide_type": "subslide"
    }
   },
   "outputs": [],
   "source": [
    "nx.draw_networkx(g, pos=layout)\n",
    "df.sort_values('betw', ascending=False, )"
   ]
  },
  {
   "cell_type": "markdown",
   "metadata": {
    "slideshow": {
     "slide_type": "subslide"
    }
   },
   "source": [
    "## Page Rank\n",
    "\n",
    "Идея PageRank заключается в попытке описать блуждание по вершинам графа. Вероятность перехода в вершину $v_i$ обратнопропорциональна степеням входящих связанных с ней вершин.\n",
    "\n",
    "$$p^{t+1} = (D^{-1}A)^\\top p^t = P^\\top p^t$$\n",
    "\n",
    "Помимо случайного блуждания между соседними вершинами заложен механизм \"телепорта\" между случайными вершинами с вероятностью $1-\\alpha$.\n",
    "\n",
    "$$ \\mathbb{P} = \\alpha P + \\frac{(1 - \\alpha)}{n} E,$$\n",
    "где $E$ - это матрица состоящая из единиц.\n",
    "\n",
    "Вектор Page Rank является одним из решений задачи на поиск собственного числа матрицы $\\mathbb{P}$\n",
    "\n",
    "$$\\mathbb{P}^\\top p = \\lambda p$$"
   ]
  },
  {
   "cell_type": "code",
   "execution_count": null,
   "metadata": {
    "ExecuteTime": {
     "end_time": "2022-05-18T14:21:54.347259Z",
     "start_time": "2022-05-18T14:21:52.415Z"
    },
    "slideshow": {
     "slide_type": "notes"
    }
   },
   "outputs": [],
   "source": [
    "pr_nodes = nx.pagerank(g)\n",
    "pr = np.array(list(pr_nodes.values())) * 1500"
   ]
  },
  {
   "cell_type": "code",
   "execution_count": null,
   "metadata": {
    "ExecuteTime": {
     "end_time": "2022-05-18T14:21:54.347968Z",
     "start_time": "2022-05-18T14:21:52.417Z"
    },
    "slideshow": {
     "slide_type": "subslide"
    }
   },
   "outputs": [],
   "source": [
    "nx.draw_networkx(g, pos=layout, node_size=pr)\n",
    "pr_nodes"
   ]
  },
  {
   "cell_type": "markdown",
   "metadata": {
    "slideshow": {
     "slide_type": "subslide"
    }
   },
   "source": [
    "## \"Геометрическая\" центральность\n",
    "Eccentricity - максимальная длина кратчайшего пути из вершины $i$ до всех остальных вершин $e(i) = \\max\\limits_j d(i, j)$.\n",
    "\n",
    "Диаметр - $\\max e(i)$<br/>\n",
    "Радиус - $\\min e(i)$\n",
    "\n",
    "Центральными вершинами являются те, у которых $e(i)$ равна радиусу графа"
   ]
  },
  {
   "cell_type": "code",
   "execution_count": null,
   "metadata": {
    "ExecuteTime": {
     "end_time": "2022-05-18T14:21:54.348811Z",
     "start_time": "2022-05-18T14:21:52.419Z"
    },
    "slideshow": {
     "slide_type": "subslide"
    }
   },
   "outputs": [],
   "source": [
    "print(nx.radius(g))\n",
    "print(nx.diameter(g))"
   ]
  },
  {
   "cell_type": "code",
   "execution_count": null,
   "metadata": {
    "ExecuteTime": {
     "end_time": "2022-05-18T14:21:54.349578Z",
     "start_time": "2022-05-18T14:21:52.420Z"
    },
    "slideshow": {
     "slide_type": "subslide"
    }
   },
   "outputs": [],
   "source": [
    "nx.draw_networkx(g, pos=layout)"
   ]
  },
  {
   "cell_type": "code",
   "execution_count": null,
   "metadata": {
    "ExecuteTime": {
     "end_time": "2022-05-18T14:21:54.350119Z",
     "start_time": "2022-05-18T14:21:52.422Z"
    },
    "slideshow": {
     "slide_type": "notes"
    }
   },
   "outputs": [],
   "source": [
    "ecc_nodes = nx.eccentricity(g)\n",
    "ecc = np.array(list(ecc_nodes.values())) * 100"
   ]
  },
  {
   "cell_type": "code",
   "execution_count": null,
   "metadata": {
    "ExecuteTime": {
     "end_time": "2022-05-18T14:21:54.350793Z",
     "start_time": "2022-05-18T14:21:52.424Z"
    },
    "slideshow": {
     "slide_type": "subslide"
    }
   },
   "outputs": [],
   "source": [
    "nx.draw_networkx(g, pos=layout, node_size=ecc)\n",
    "ecc_nodes"
   ]
  },
  {
   "cell_type": "markdown",
   "metadata": {
    "slideshow": {
     "slide_type": "subslide"
    }
   },
   "source": [
    "### Clustering coefficient\n",
    "Доля \"треугольников\" в среди соседей вершины."
   ]
  },
  {
   "cell_type": "code",
   "execution_count": null,
   "metadata": {
    "ExecuteTime": {
     "end_time": "2022-05-18T14:21:54.351387Z",
     "start_time": "2022-05-18T14:21:52.425Z"
    },
    "slideshow": {
     "slide_type": "subslide"
    }
   },
   "outputs": [],
   "source": [
    "nx.draw_networkx(g, pos=layout)"
   ]
  },
  {
   "cell_type": "code",
   "execution_count": null,
   "metadata": {
    "ExecuteTime": {
     "end_time": "2022-05-18T14:21:54.352117Z",
     "start_time": "2022-05-18T14:21:52.427Z"
    },
    "slideshow": {
     "slide_type": "subslide"
    }
   },
   "outputs": [],
   "source": [
    "g.add_edge(1,2)\n",
    "nx.draw_networkx(g, pos=layout)\n",
    "nx.triangles(g)"
   ]
  },
  {
   "cell_type": "markdown",
   "metadata": {
    "slideshow": {
     "slide_type": "subslide"
    }
   },
   "source": [
    "## Центральностей еще очень много\n",
    "* See [wiki](https://en.wikipedia.org/wiki/Centrality)"
   ]
  },
  {
   "cell_type": "markdown",
   "metadata": {
    "slideshow": {
     "slide_type": "fragment"
    }
   },
   "source": [
    "Возьмите граф друзей и найдите в нем \"самые важные вершины\""
   ]
  },
  {
   "cell_type": "markdown",
   "metadata": {
    "slideshow": {
     "slide_type": "slide"
    }
   },
   "source": [
    "# Выявление сообществ в сети\n",
    "<center><img src='https://cdn-images-1.medium.com/max/1600/1*fVGpU47jjKRVKdiYqeODkw.png', width=1200></center>"
   ]
  },
  {
   "cell_type": "markdown",
   "metadata": {
    "slideshow": {
     "slide_type": "subslide"
    }
   },
   "source": [
    "Eсли сеть состоит из нескольких множеств узлов с многочисленными и насыщенными внутренними связями и редкими исходящими связями, то говорят, что данная сеть имеет структуру сообществ (community structure). \n",
    "\n",
    "Примеры:\n",
    "* Соц-сети: группы по интересам\n",
    "* Cистемы передачи информации:страницы или сервера разбиваются на группы\n",
    "* Биологические системы"
   ]
  },
  {
   "cell_type": "markdown",
   "metadata": {
    "slideshow": {
     "slide_type": "subslide"
    }
   },
   "source": [
    "Не существует общепринятого определения \"сообщества\" в сетевом анализе\n",
    "\n",
    "* Очевидно, сообщество, должно быть связным подграфом. \n",
    "* 'Количество ребер внутри сообщества' > 'число ребер, соединяющих его с остальными узлами сети'"
   ]
  },
  {
   "cell_type": "markdown",
   "metadata": {
    "slideshow": {
     "slide_type": "slide"
    }
   },
   "source": [
    "## Модели на основе связанности\n",
    "\n",
    "* **Клика** - максимальный подграф из 3х и более вершин, такой что каждая вершина в нем соединена со всеми остальными\n",
    "\n",
    "<center><img src='images/klique.png', width=1200></center>"
   ]
  },
  {
   "cell_type": "markdown",
   "metadata": {
    "slideshow": {
     "slide_type": "fragment"
    }
   },
   "source": [
    "* Слишком строгие требования для сообщества"
   ]
  },
  {
   "cell_type": "markdown",
   "metadata": {
    "slideshow": {
     "slide_type": "subslide"
    }
   },
   "source": [
    "## Релаксация критерия \"кликовости\"\n",
    "* $n$-клика ($n$-clique) - максимальный подграф, такой что расстояние между каждой парой вершин на *исходном графе* не превышает $n$\n",
    "    * $n$-клики могут пересекаться\n",
    "    * полученные подграфы могут быть несвязаны\n",
    "    \n",
    "<center><img src='images/example.png' width=500></center>\n",
    "\n",
    "* $(v_1, v_2, v_3, v_4, v_5)$, $(v_2, v_3, v_4, v_5, v_6)$ - $2$-клики"
   ]
  },
  {
   "cell_type": "markdown",
   "metadata": {
    "slideshow": {
     "slide_type": "subslide"
    }
   },
   "source": [
    "## Релаксация критерия \"кликовости\"\n",
    "* $n$-клан ($n$-clan) - $n$-клика с диаметром не превосходящим $n$\n",
    "    \n",
    "<center><img src='images/example.png' width=500></center>\n",
    "\n",
    "* $(v_2, v_3, v_4, v_5, v_6)$ - $2$-клан"
   ]
  },
  {
   "cell_type": "markdown",
   "metadata": {
    "slideshow": {
     "slide_type": "subslide"
    }
   },
   "source": [
    "## Релаксация критерия \"кликовости\"\n",
    "* $n$-клуб ($n$-club) - максимальный подграф с диаметром, не превосходящим $n$\n",
    "    \n",
    "<center><img src='images/example.png' width=500></center>\n",
    "\n",
    "* $(v_1, v_2, v_3, v_4)$ - $2$-клуб"
   ]
  },
  {
   "cell_type": "markdown",
   "metadata": {
    "slideshow": {
     "slide_type": "slide"
    }
   },
   "source": [
    "## Модели, основанные на степени узлов\n",
    "\n",
    "* Узлы должны обладать определенным минимальным числом соседей"
   ]
  },
  {
   "cell_type": "markdown",
   "metadata": {
    "slideshow": {
     "slide_type": "subslide"
    }
   },
   "source": [
    "### k-core\n",
    "\n",
    "* $k$-ядро – это максимальный подграф, в котором каждый узел смежен хотя бы с $k$ другими узлами: все узлы в $k$-ядре обладают степенью не меньше $k$ \n",
    "\n",
    "<center><img src='images/core.png' width=800></center>\n",
    "\n",
    "* k-core так же можно использовать для \"очистки\" сетей от \"неинтересных\" вершин"
   ]
  },
  {
   "cell_type": "markdown",
   "metadata": {
    "slideshow": {
     "slide_type": "slide"
    }
   },
   "source": [
    "## Схожесть вершин"
   ]
  },
  {
   "cell_type": "markdown",
   "metadata": {
    "slideshow": {
     "slide_type": "subslide"
    }
   },
   "source": [
    "Понятие **\"эквивалетности\"** вершин можно ославить до **\"схожести\"** вершин - некоторая мера структурной близости вершин. \n",
    "\n",
    "Наиболее распространенные практиеские применения мер сходства:\n",
    "* Выявление сообществ\n",
    "* Предсказание связей"
   ]
  },
  {
   "cell_type": "markdown",
   "metadata": {
    "slideshow": {
     "slide_type": "subslide"
    }
   },
   "source": [
    "## Примеры мер сходства\n",
    "\n",
    "* $A_{ij}$ -  элемент матрицы смежности сети\n",
    "* $N(v_i)$ - соседи вершины $v_i$\n",
    "\n",
    "#### Jaccard Similarity\n",
    "$$ s(v_i, v_j) = \\frac{|N(v_i) \\cap N(v_j)|}{|N(v_i) \\cup N(v_j)|} $$\n",
    "\n",
    "#### Cosine Similarity\n",
    "$$ s(v_i, v_j) = \\frac{\\langle A_{i \\cdot}, A_{j \\cdot} \\rangle}{\\sqrt{\\sum_k A^2_{ik}} \\sqrt{\\sum_k A^2_{jk}}} $$\n",
    "\n",
    "#### Correlation\n",
    "$$ s(v_i, v_j) = \\frac{\\sum_k (A_{ik} - \\bar{A}_{i\\cdot}) (A_{jk} - \\bar{A}_{j\\cdot})}{\\sqrt{\\sum_k (A_{ik} - \\bar{A}_{i\\cdot})^2} \\sqrt{\\sum_k (A_{jk} - \\bar{A}_{j\\cdot})^2}} $$\n",
    "\n",
    "#### Adamic-Adar Score\n",
    "$$ s(v_i, v_j) = \\sum\\limits_{z \\in N(v_i) \\cap N(v_j)} \\frac{1}{\\log(|N(z)|)} $$\n",
    "\n",
    "#### Preferential Attachment Score\n",
    "$$ s(v_i, v_j) = |N(v_i)| \\cdot |N(v_j)| $$"
   ]
  },
  {
   "cell_type": "markdown",
   "metadata": {
    "slideshow": {
     "slide_type": "subslide"
    }
   },
   "source": [
    "#### Что можно делать имея попарное сходство между объектами?"
   ]
  },
  {
   "cell_type": "markdown",
   "metadata": {
    "slideshow": {
     "slide_type": "fragment"
    }
   },
   "source": [
    "Кластеризацию!"
   ]
  },
  {
   "cell_type": "markdown",
   "metadata": {
    "slideshow": {
     "slide_type": "slide"
    }
   },
   "source": [
    "# Некоторые специфичные для графов методы"
   ]
  },
  {
   "cell_type": "markdown",
   "metadata": {
    "slideshow": {
     "slide_type": "subslide"
    }
   },
   "source": [
    "### Label Propagation\n",
    "\n",
    "* Каждой из вершин приписывается определенное уникальное сообщество\n",
    "* На каждом шаге вершина принимает ту метку сообщества, которая больше других выражена у соседей\n",
    "\n",
    "<center><img src='images/labelprop.jpg' width=800></center>\n",
    "\n",
    "* Какие недостатки вы здесь видите?"
   ]
  },
  {
   "cell_type": "markdown",
   "metadata": {
    "slideshow": {
     "slide_type": "subslide"
    }
   },
   "source": [
    "### Girvan and Newman EdgeBetweenness\n",
    "\n",
    "1. Вычислить меру betweenness centrality для каждого ребра\n",
    "2. Найти ребро с наибольшим значением и удалить\n",
    "3. Проверить граф на связанность - присвоить метку связанным компонентам\n",
    "4. Повторять шаги 1-3 пока не будут удалены все ребра\n",
    "\n",
    "<center><img src='images/girnew041.png' width=800></center>\n",
    "\n",
    "\n",
    "* На выходе - иерархия!\n",
    "* Как же выбрать количество cообществ?!"
   ]
  },
  {
   "cell_type": "markdown",
   "metadata": {
    "slideshow": {
     "slide_type": "subslide"
    }
   },
   "source": [
    "### Community Scoring Functions\n",
    "\n",
    "Как и в \"табличной\" кластеризации, качество community detection можно оценить и без ground truth. Для этого считают так называемые scoring functions.\n",
    "\n",
    "Чего бы нам хотелось получить от выявленного сообщества (разбиения на сообщества):\n",
    "* Плотности ребер внутри сообщества\n",
    "* БОльшая доря ребер внутри сообщества относительно ребер, связывающих его с внешним миром\n",
    "* Высокий коэффициент кластаризации внутри сообщества (относительно среднего по сети)\n",
    "* Высокая **модулярность**\n",
    "\n",
    "В [статье](https://arxiv.org/pdf/1205.6233.pdf) можно найти наиболее полный набор так называемых scoring functions\n"
   ]
  },
  {
   "cell_type": "markdown",
   "metadata": {
    "slideshow": {
     "slide_type": "subslide"
    }
   },
   "source": [
    "### Modularity\n",
    "\n",
    "* Пусть в результате какого-то алгоритма мы получили разбиение на сообщества $C_1,C_2,\\dots,C_k$\n",
    "* Хочется понять насколько это хорошее разбиения\n",
    "* Сравним раскраску нашего графа на сообщества с той же раскраской, но другого графа с теми же свойствами"
   ]
  },
  {
   "cell_type": "code",
   "execution_count": null,
   "metadata": {
    "ExecuteTime": {
     "end_time": "2022-05-18T14:21:54.352669Z",
     "start_time": "2022-05-18T14:21:52.438Z"
    },
    "slideshow": {
     "slide_type": "notes"
    }
   },
   "outputs": [],
   "source": [
    "g1 = nx.erdos_renyi_graph(10, 0.4, seed=10)\n",
    "g2 = nx.erdos_renyi_graph(7, 0.6, seed=10)\n",
    "g3 = nx.disjoint_union(g1,g2)\n",
    "g3.add_edges_from([(0,13)])\n",
    "exp_degree = np.array(list(g3.degree()))[:,1]\n",
    "g3_random = nx.expected_degree_graph(exp_degree, seed=1234)\n",
    "\n",
    "m_layout = nx.layout.spring_layout(g3)\n",
    "mod_labeling = [0]*10 + [1]*7\n",
    "mod_partition = [set(range(10)), set(range(10, 17))]"
   ]
  },
  {
   "cell_type": "code",
   "execution_count": null,
   "metadata": {
    "ExecuteTime": {
     "end_time": "2022-05-18T14:21:54.353331Z",
     "start_time": "2022-05-18T14:21:52.439Z"
    },
    "slideshow": {
     "slide_type": "subslide"
    }
   },
   "outputs": [],
   "source": [
    "nx.draw(g3_random, pos=m_layout, node_color=mod_labeling)"
   ]
  },
  {
   "cell_type": "code",
   "execution_count": null,
   "metadata": {
    "ExecuteTime": {
     "end_time": "2022-05-18T14:21:54.354071Z",
     "start_time": "2022-05-18T14:21:52.441Z"
    },
    "slideshow": {
     "slide_type": "subslide"
    }
   },
   "outputs": [],
   "source": [
    "nx.draw(g3, pos=m_layout, node_color=mod_labeling)"
   ]
  },
  {
   "cell_type": "markdown",
   "metadata": {
    "slideshow": {
     "slide_type": "subslide"
    }
   },
   "source": [
    "## Modularity\n",
    "\n",
    "$$ \n",
    "\\begin{align}\n",
    "Q & = \\frac{1}{2m} \\sum\\limits_{ij}\\left(A_{ij} - P_{ij}\\right)\\delta(\\mathcal{C}_i,\\mathcal{C}_j) = \\\\\n",
    "& = \\frac{1}{2m} \\sum\\limits_{ij}\\left(A_{ij} - \\frac{k_i k_j}{2m}\\right)\\delta(\\mathcal{C}_i,\\mathcal{C}_j)\n",
    "\\end{align}$$ \n",
    "\n",
    "где \n",
    "* $\\delta(x, y) = 1$, если $x=y$ и $0$ - иначе\n",
    "* $P_{ij}$ - вероятность возникновения ребра между вершинами $v_i$ и $v_j$\n",
    "* $\\mathcal{C}_i$ - метка кластера для вершины $v_i$\n",
    "\n",
    "Какова область значения модулярности?\n"
   ]
  },
  {
   "cell_type": "markdown",
   "metadata": {
    "slideshow": {
     "slide_type": "subslide"
    }
   },
   "source": [
    "### Возвращаясь к нашему вопросу\n",
    "* Выбираем то разбиение, которое обладает наибольшей модулярностью\n",
    "<center><img src='images/girnew04.png' width=1200></center>\n"
   ]
  },
  {
   "cell_type": "markdown",
   "metadata": {
    "slideshow": {
     "slide_type": "subslide"
    }
   },
   "source": [
    "## Другие методы выявления сообществ\n",
    "* Существуют так же методы, которые напрямую оптимизируют модулярность\n",
    "* Существуют методы, которые используют различные спектральные свойства матрицы смежности\n",
    "* И др - см [статью](https://arxiv.org/pdf/0906.0612.pdf)"
   ]
  },
  {
   "cell_type": "markdown",
   "metadata": {
    "slideshow": {
     "slide_type": "slide"
    }
   },
   "source": [
    "# Асортативное смешивание (Assortative Mixing)"
   ]
  },
  {
   "cell_type": "markdown",
   "metadata": {
    "slideshow": {
     "slide_type": "subslide"
    }
   },
   "source": [
    "## Асортативное смешивание (Assortative Mixing)\n",
    "* Мера асортативности - это способ измерения гомофилии в сети.\n",
    "* Насколько схожие по некоторому признаку вершины склонны формировать связи друг с другом\n",
    "\n",
    "\n",
    "\n",
    "* Можно попытаться ответить на вопросы типа:\n",
    "    * Действительно ли сообщество образовано на основе места проживания\n",
    "    * Насколько сильно похожа зарплата людей в соц-сети\n"
   ]
  },
  {
   "cell_type": "markdown",
   "metadata": {
    "slideshow": {
     "slide_type": "subslide"
    }
   },
   "source": [
    "## Aсортативность для категориального признака\n",
    "\n",
    "Пусть \n",
    "* $e_{ij}$ - доля ребер, связывающих вершины типа $i$ и вершины типа $j$\n",
    "* $a_{i} = \\sum_j e_{ij}$ - доля ребер, с вершиной типа $i$ на любом конце\n",
    "* $b_{j} = \\sum_i e_{ij}$ - доля ребер, с вершиной типа $j$ на любом конце\n",
    "\n",
    "$$ r = \\frac{\\sum_i e_{ii} - \\sum_{ij}a_ib_j}{1 - \\sum_{ij}a_ib_j} $$"
   ]
  },
  {
   "cell_type": "code",
   "execution_count": null,
   "metadata": {
    "ExecuteTime": {
     "end_time": "2022-05-18T14:21:54.355082Z",
     "start_time": "2022-05-18T14:21:52.445Z"
    },
    "slideshow": {
     "slide_type": "notes"
    }
   },
   "outputs": [],
   "source": [
    "g_test = nx.complete_graph(6)\n",
    "\n",
    "g_test.add_nodes_from(range(6,10))\n",
    "g_test.add_edges_from([(6,8), (6,7), (7,8), (8,9), (9,7)])"
   ]
  },
  {
   "cell_type": "code",
   "execution_count": null,
   "metadata": {
    "ExecuteTime": {
     "end_time": "2022-05-18T14:21:54.356166Z",
     "start_time": "2022-05-18T14:21:52.447Z"
    },
    "slideshow": {
     "slide_type": "notes"
    }
   },
   "outputs": [],
   "source": [
    "categ = dict(zip(range(10), [0]*6 + [1]*4))\n",
    "nx.set_node_attributes(g_test, categ, 'categ')\n",
    "\n"
   ]
  },
  {
   "cell_type": "code",
   "execution_count": null,
   "metadata": {
    "ExecuteTime": {
     "end_time": "2022-05-18T14:21:54.357094Z",
     "start_time": "2022-05-18T14:21:52.448Z"
    },
    "slideshow": {
     "slide_type": "subslide"
    }
   },
   "outputs": [],
   "source": [
    "nx.draw_spring(g_test, node_color=list(categ.values()))\n",
    "\n",
    "\n"
   ]
  },
  {
   "cell_type": "code",
   "execution_count": null,
   "metadata": {
    "ExecuteTime": {
     "end_time": "2022-05-18T14:21:54.357874Z",
     "start_time": "2022-05-18T14:21:52.450Z"
    },
    "slideshow": {
     "slide_type": "fragment"
    }
   },
   "outputs": [],
   "source": [
    "nx.assortativity.attribute_assortativity_coefficient(g_test, 'categ')"
   ]
  },
  {
   "cell_type": "code",
   "execution_count": null,
   "metadata": {
    "ExecuteTime": {
     "end_time": "2022-05-18T14:21:54.358704Z",
     "start_time": "2022-05-18T14:21:52.452Z"
    },
    "slideshow": {
     "slide_type": "skip"
    }
   },
   "outputs": [],
   "source": [
    "g_test = nx.Graph()\n",
    "g_test.add_nodes_from(range(4))\n",
    "\n",
    "g_test.add_edges_from([(0,1), (2,3)])\n",
    "categ = dict(zip(range(4), [0,1,0,1]))\n",
    "nx.set_node_attributes(g_test, categ, 'categ')"
   ]
  },
  {
   "cell_type": "code",
   "execution_count": null,
   "metadata": {
    "ExecuteTime": {
     "end_time": "2022-05-18T14:21:54.359630Z",
     "start_time": "2022-05-18T14:21:52.453Z"
    },
    "slideshow": {
     "slide_type": "subslide"
    }
   },
   "outputs": [],
   "source": [
    "nx.draw(g_test, node_color=list(categ.values()))"
   ]
  },
  {
   "cell_type": "code",
   "execution_count": null,
   "metadata": {
    "ExecuteTime": {
     "end_time": "2022-05-18T14:21:54.360562Z",
     "start_time": "2022-05-18T14:21:52.454Z"
    },
    "slideshow": {
     "slide_type": "fragment"
    }
   },
   "outputs": [],
   "source": [
    "nx.assortativity.attribute_assortativity_coefficient(g_test, 'categ')"
   ]
  },
  {
   "cell_type": "markdown",
   "metadata": {
    "slideshow": {
     "slide_type": "slide"
    }
   },
   "source": [
    "## Полезные ссылки\n",
    "* [Курс по соц-сетям от Л. Жукова](http://leonidzhukov.net/hse/2014/socialnetworks/)\n",
    "* [Курс со соц-сетям от Stanford](http://web.stanford.edu/class/cs224w/index.html)"
   ]
  },
  {
   "cell_type": "markdown",
   "metadata": {
    "slideshow": {
     "slide_type": "slide"
    }
   },
   "source": [
    "# Спасибо за внимание!\n",
    "## Пожалуйста, оставьте отзыв"
   ]
  }
 ],
 "metadata": {
  "anaconda-cloud": {},
  "celltoolbar": "Slideshow",
  "kernelspec": {
   "display_name": "Python 3",
   "language": "python",
   "name": "python3"
  },
  "language_info": {
   "codemirror_mode": {
    "name": "ipython",
    "version": 3
   },
   "file_extension": ".py",
   "mimetype": "text/x-python",
   "name": "python",
   "nbconvert_exporter": "python",
   "pygments_lexer": "ipython3",
   "version": "3.8.8"
  },
  "livereveal": {
   "theme": "serif",
   "transition": "concave"
  },
  "nav_menu": {},
  "toc": {
   "base_numbering": 1,
   "nav_menu": {
    "height": "347px",
    "width": "253px"
   },
   "number_sections": false,
   "sideBar": true,
   "skip_h1_title": false,
   "title_cell": "Table of Contents",
   "title_sidebar": "Contents",
   "toc_cell": false,
   "toc_position": {
    "height": "100px",
    "left": "46px",
    "right": "398.5px",
    "top": "111.133px",
    "width": "165px"
   },
   "toc_section_display": true,
   "toc_window_display": false
  },
  "toc_position": {
   "height": "40px",
   "left": "816px",
   "right": "38.6667px",
   "top": "0px",
   "width": "212px"
  }
 },
 "nbformat": 4,
 "nbformat_minor": 1
}
